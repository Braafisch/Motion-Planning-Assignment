{
  "cells": [
    {
      "cell_type": "markdown",
      "metadata": {
        "colab_type": "text",
        "id": "view-in-github"
      },
      "source": [
        "<a href=\"https://colab.research.google.com/github/Braafisch/Motion-Planning-Assignment/blob/main/Assignment_1/MP_Assignment1.ipynb\" target=\"_parent\"><img src=\"https://colab.research.google.com/assets/colab-badge.svg\" alt=\"Open In Colab\"/></a>"
      ]
    },
    {
      "cell_type": "markdown",
      "metadata": {
        "id": "PIT31A3VgeTc"
      },
      "source": [
        "# Motion Planning, Assignment 1: Bug Algorithms\n",
        "\n",
        "In this assignment, you will implement the Bug1 algorithm and test it in simulation. The assignment is divided into several excercises (with increasing level of difficulty) which are supposed to guide you towards the final implementation. If you haven't used Python before, check out the Python information on the course's Moodle page. \n",
        "\n",
        "The robot in this simulation is a point-shaped robot equipped with a laser scanner (cf. [Fig. 1](#fig_1)). Its position is given by $(x, y, \\theta)$. The entities $x, y,$ and  $\\theta$ are given in **global** coordinates.\n",
        "\n",
        "As can be seen in [Fig. 1](#fig_1), the sensor readings are given with respect to an angle $\\varphi$ in **local** coordinates. This means, that $\\varphi$ is given **relative** to the robots orientation $\\theta$.\n",
        "\n",
        "<a id=\"fig_1\"></a>\n",
        "![Fig. 1: Robot scenario](https://drive.google.com/uc?export=view&id=11Ai2mL8tMdjGK6Sz7pXx-5d0pCXJ_jQO)\n",
        "\n",
        "First, load upload necessary library files to Colab:"
      ]
    },
    {
      "cell_type": "code",
      "execution_count": 3,
      "metadata": {
        "id": "TMDnw4ttgeTi"
      },
      "outputs": [],
      "source": [
        "import requests\n",
        "import io\n",
        "import shutil\n",
        "\n",
        "url = 'https://raw.githubusercontent.com/Braafisch/Motion-Planning-Assignment/main/Assignment_1/bugsim.py'\n",
        "response = requests.get(url, allow_redirects = True)\n",
        "\n",
        "with open('bugsim.py', 'wb') as fin:\n",
        "    shutil.copyfileobj(io.BytesIO(response.content), fin)"
      ]
    },
    {
      "cell_type": "markdown",
      "metadata": {
        "id": "7d3_lL1egeTk"
      },
      "source": [
        "Now, load the necessary libraries:"
      ]
    },
    {
      "cell_type": "code",
      "execution_count": 1,
      "metadata": {
        "id": "4CqYTlL2geTl"
      },
      "outputs": [],
      "source": [
        "import math\n",
        "import numpy as np\n",
        "import matplotlib.pyplot as plt\n",
        "\n",
        "from matplotlib import animation, rc\n",
        "from IPython.display import HTML\n",
        "\n",
        "from bugsim import BugSim, normalizeAngle"
      ]
    },
    {
      "cell_type": "markdown",
      "metadata": {
        "id": "OLrM5GuAgeTl"
      },
      "source": [
        "## Exercise 1.1: Introduction\n",
        "\n",
        "To get a first impression of the robot simulator, check out how a sample scenario is created. \n",
        "\n",
        "The following code section defines obstacles as set of axis-aligned rectangles. These ``objects`` are given as a list of points ``[xmin, ymin, xmax, ymax]`` where (xmin, ymin) denotes the lower left and (xmax, ymax) the upper right corner of the rectangle. You may select three different scenarios (and later create your own, of course).\n",
        "\n",
        "Then, a simulator is created. The class ``BugSim`` will be used for simulation in this project. It can be initialized using \n",
        "\n",
        "````\n",
        "simulator = BugSim(objects, goal=goal_point, \n",
        "                   sensor_resolution=20/180*np.pi, view_range=50,\n",
        "                   safety_distance=5)\n",
        "````\n",
        "\n",
        "with arguments\n",
        "* **objects:** the obstacles as a list of rectangles, see above.\n",
        "* **goal:** the target position, e.g. (5,6)\n",
        "* **view_range:** the maximum viewing distance of the sensor. Everything above that is indicated as np.inf.\n",
        "* **sensor_resolution:** the angular resolution (in rad) of the sensor.\n",
        "* **safety_distance:** the robot should keep that distance to obstacles. \n",
        "\n",
        "\n",
        "The BugSim class has several functions for moving the robot and accessing sensor data which will be described later. Here, the robot is spawned, and the sample scenario is drawn. "
      ]
    },
    {
      "cell_type": "code",
      "execution_count": 2,
      "metadata": {
        "colab": {
          "base_uri": "https://localhost:8080/",
          "height": 313
        },
        "id": "a5Bx2qTQgeTn",
        "outputId": "74fb5fdd-cab3-48b0-93f7-44007663c9fb"
      },
      "outputs": [
        {
          "data": {
            "image/png": "[encoded data removed]",
            "text/plain": [
              "<Figure size 432x288 with 1 Axes>"
            ]
          },
          "metadata": {
            "needs_background": "light"
          },
          "output_type": "display_data"
        }
      ],
      "source": [
        "scenario = 1\n",
        "\n",
        "if scenario==1:\n",
        "    # [[xmin, ymin, xmax, ymax], ...]\n",
        "    objects = [[-5, -5, 205, 0],\n",
        "               [-5, 100, 205, 105],\n",
        "               [-5, -5, 0, 105], \n",
        "               [200, -5, 205, 105],\n",
        "               [70, 60, 150, 65],\n",
        "               [70, 40, 75, 60]\n",
        "               ]\n",
        "    goal_point = (125, 80)\n",
        "    spawn_pose = (100, 35, 90/180*np.pi)\n",
        "\n",
        "elif scenario==2:\n",
        "    objects = [[-5, -5, 205, 0],\n",
        "               [-5, 200, 205, 205],\n",
        "               [-5, -5, 0, 205], \n",
        "               [200, -5, 205, 205],\n",
        "               [70, 130, 150, 135],\n",
        "               [70, 60, 150, 65],\n",
        "               [70, 40, 75, 60]\n",
        "               ]\n",
        "    goal_point = (125, 180)\n",
        "    spawn_pose = (100, 35, 90/180*np.pi)\n",
        "\n",
        "elif scenario==3:\n",
        "    objects = [[-5, -5, 205, 0],\n",
        "               [-5, 200, 205, 205],\n",
        "               [-5, -5, 0, 205], \n",
        "               [200, -5, 205, 205],\n",
        "               [70, 130, 150, 135],\n",
        "               [70, 60, 150, 65],\n",
        "               [70, 60, 75, 135],\n",
        "               [150, 60, 155, 135]\n",
        "               ]\n",
        "    goal_point = (125, 100)\n",
        "    spawn_pose = (100, 35, 90/180*np.pi)\n",
        "    \n",
        "else:\n",
        "    print('Error! Unknown scenario.')\n",
        "\n",
        "\n",
        "# Create the simulator\n",
        "simulator = BugSim(objects, goal=goal_point, \n",
        "                   sensor_resolution=20/180*np.pi, view_range=50,\n",
        "                   safety_distance=5)\n",
        "\n",
        "# Spawn the robot\n",
        "simulator.spawn(x=spawn_pose[0], y=spawn_pose[1], theta=spawn_pose[2])\n",
        "\n",
        "# Show\n",
        "plt.figure()\n",
        "simulator.drawBoard()\n",
        "simulator.showRobot()\n",
        "plt.title('obstacles');"
      ]
    },
    {
      "cell_type": "markdown",
      "metadata": {
        "id": "VZKurWgDgeTp"
      },
      "source": [
        "**The BugSim class**\n",
        "\n",
        "The BugSim class is a simple simulator for a point shaped robot equipped with a laser scanner.\n",
        "\n",
        "The BugSim class has the following important attributes:\n",
        "* **x, y, theta**: the 2d position and orientation (in rad) of the robot\n",
        "* **view_range**: the maximum viewing distance of the sensor.\n",
        "* **sensor_resolution**: the angular resolution (in rad) of the sensor.\n",
        "* **safety_distance**: the robot should keep that distance to obstacles. \n",
        "* **goal**: the target position on the board\n",
        "* **history**: all previously visited poses of the robot, general form: [[x0, y0, theta0], [x1, y1, theta1], ... ]\n",
        "\n",
        "Its most important methods are:\n",
        "* **spawn(x, y, theta)**: Spawn the robot at initial pose (x, y, theta).\n",
        "* **getPose()**: Gets the current position and orientation of the robot. Returns: A list of values (x, y, theta) where theta is in rad. <br/><br/> \n",
        "\n",
        "* **forward(dist)**: Move robot about dist in forward direction. Please note that the robot will not move after a collision has been detected.\n",
        "* **turn(dtheta)**: Turn robot about dtheta (rad) in mathematically positive direction\n",
        "* **getNumMoves()**: Get number of motion steps the robot has done since it has been spawned.  <br/><br/> \n",
        "\n",
        "* **getScan()**: Returns the sensor readings as numpy array of Nx2-shape where N is the number of measurements and\n",
        "    * [:, 0] (first column) returns the relative angle phi (in rad)\n",
        "    * [:, 1] (second column) returns the distance to the closes obstacle\n",
        "* **getDistAtPhi(sensor_readings, phi)**: Gives the closest distance measurement to relative direction phi (rad). sensor_readings contains the sensor data. <br/><br/> \n",
        "\n",
        "* **checkCollision()**: Returns True iff the robot has collided with an obstacle.\n",
        "* **drawBoard()**: Draws the board with obstacles and target position.\n",
        "* **showRobot()**: Plot the robot at it's current location."
      ]
    },
    {
      "cell_type": "markdown",
      "metadata": {
        "id": "DClpuFYfgeTr"
      },
      "source": [
        "Let's begin with your first programming task: Using the sensor readings, draw all lidar scan rays from the robot to the obstacles. If the sensors cannot find an object in a specific direction, use the specifed view range as length for the ray. Your plot should resemble [Fig. 1](#fig_1) above.\n",
        "\n",
        "In a second figure, plot the observed distance (y-axis) with respect to the view angle phi (x-axis).\n",
        "\n",
        "**Hints:**\n",
        "1. Use Matplotlib's ``plt.plot()`` for drawing.\n",
        "2. The number of sensor scans can be obtained with `sensor_readings.shape[0]`"
      ]
    },
    {
      "cell_type": "code",
      "execution_count": 3,
      "metadata": {
        "colab": {
          "base_uri": "https://localhost:8080/",
          "height": 363
        },
        "id": "Jn8j1Z2NgeTr",
        "outputId": "cd8261b3-a616-43c2-a1c4-7f049cf430fc"
      },
      "outputs": [
        {
          "name": "stdout",
          "output_type": "stream",
          "text": [
            "No collision.\n"
          ]
        },
        {
          "data": {
            "text/plain": [
              "<Figure size 432x288 with 0 Axes>"
            ]
          },
          "execution_count": 3,
          "metadata": {},
          "output_type": "execute_result"
        },
        {
          "data": {
            "image/png": "[encoded data removed]",
            "text/plain": [
              "<Figure size 432x288 with 1 Axes>"
            ]
          },
          "metadata": {
            "needs_background": "light"
          },
          "output_type": "display_data"
        },
        {
          "data": {
            "text/plain": [
              "<Figure size 432x288 with 0 Axes>"
            ]
          },
          "metadata": {},
          "output_type": "display_data"
        }
      ],
      "source": [
        "plt.figure()\n",
        "simulator.drawBoard()\n",
        "simulator.showRobot()\n",
        "if simulator.checkCollision():\n",
        "    print('Collision occured.')\n",
        "else:\n",
        "    print('No collision.')\n",
        "\n",
        "    \n",
        "# -- TODO: Add your code here for show Lidar scan rays --\n",
        "sensor_readings = simulator.getScan()\n",
        "pos = simulator.getPose()\n",
        "for i in range(sensor_readings.shape[0]):\n",
        "  x = pos[0] + np.cos(sensor_readings[i,0]+pos[2]) * sensor_readings[i,1]\n",
        "  y = pos[1] + np.sin(sensor_readings[i,0]+pos[2]) * sensor_readings[i,1]\n",
        "  plt.plot([pos[0],x],[pos[1],y], 'b')\n",
        "\n",
        "# -- END TODO --\n",
        "simulator.showRobot()\n",
        "plt.xlabel('x')\n",
        "plt.ylabel('y')\n",
        "\n",
        "\n",
        "plt.figure()\n",
        "# -- TODO: Add your code here showing distance vs phi --\n",
        "\n",
        "\n",
        "# -- END TODO --"
      ]
    },
    {
      "cell_type": "markdown",
      "metadata": {
        "id": "cs3rfWn1geTs"
      },
      "source": [
        "## Exercise 1.2: Moving the robot\n",
        "\n",
        "The following is not a real exercise, but just an example how to move the robot in simulation. Motion commands are generated at random."
      ]
    },
    {
      "cell_type": "code",
      "execution_count": 4,
      "metadata": {
        "colab": {
          "base_uri": "https://localhost:8080/",
          "height": 297
        },
        "id": "YSoZMobxgeTt",
        "outputId": "09e74d93-fce4-4994-869d-8229370cd875"
      },
      "outputs": [
        {
          "name": "stdout",
          "output_type": "stream",
          "text": [
            "Collision detected!\n"
          ]
        },
        {
          "data": {
            "image/png": "[encoded data removed]",
            "text/plain": [
              "<Figure size 432x288 with 1 Axes>"
            ]
          },
          "metadata": {
            "needs_background": "light"
          },
          "output_type": "display_data"
        }
      ],
      "source": [
        "plt.figure()\n",
        "simulator.drawBoard()\n",
        "simulator.spawn(x=spawn_pose[0], y=spawn_pose[1], theta=spawn_pose[2])\n",
        "simulator.showRobot()\n",
        "\n",
        "for i in range(100):\n",
        "    simulator.turn(25.0/180.0*np.pi*np.random.randn())\n",
        "    simulator.forward(2.0*np.random.rand())\n",
        "    plt.plot(simulator.x, simulator.y, 'bo')\n",
        "    if simulator.checkCollision():\n",
        "        break"
      ]
    },
    {
      "cell_type": "markdown",
      "metadata": {
        "id": "0p4neRgUgeTt"
      },
      "source": [
        "## Excercise 1.3: Move towards goal\n",
        "\n",
        "As a preparation for the Bug1 algorithm, write code that drives the robot from the current position towards the goal. The robot should stop once it reaches the goal, an obstacle (within the specified safety distance ``simulator.safety_distance``), or after 1000 movements.\n",
        "\n",
        "The function ``getTowardsGoalState`` given below may be helpful for this task. \n",
        "\n",
        "When moving forward, use a ``stepSize=1``."
      ]
    },
    {
      "cell_type": "code",
      "execution_count": 5,
      "metadata": {
        "id": "UFw6YDnYgeTu"
      },
      "outputs": [],
      "source": [
        "def getTowardsGoalState(simulator):\n",
        "    \"\"\"Get status of robot when moving towards the goal. \n",
        "    \n",
        "    Args:\n",
        "        simulator: the simulator class instance\n",
        "        \n",
        "    Returns:\n",
        "        A tuple (goal_dist, toward_goal_phi, toward_goal_free_dist) where\n",
        "        * goal_dist: distance to goal\n",
        "        * toward_goal_phi: relative direction towards goal (rad)\n",
        "        * toward_goal_free_dist: distance to next obstacle in the direction \n",
        "            towards the goal (toward_goal_phi)\n",
        "    \"\"\"\n",
        "    gx, gy = simulator.goal\n",
        "    x, y, theta = simulator.getPose()\n",
        "    \n",
        "    goal_dist = np.sqrt((gx-x)**2 + (gy-y)**2)\n",
        "    \n",
        "    sensor_readings = simulator.getScan()\n",
        "\n",
        "    toward_goal_theta = np.arctan2(gy-y, gx-x)\n",
        "    toward_goal_phi = normalizeAngle(toward_goal_theta-theta)\n",
        "    toward_goal_free_dist = simulator.getDistAtPhi(sensor_readings, toward_goal_phi)\n",
        "\n",
        "    return goal_dist, toward_goal_phi, toward_goal_free_dist\n",
        "\n",
        "def getTowardsObstacleState(simulator):\n",
        "    \"\"\"Get status of robot with respect to nearest obstacle. \n",
        "    \n",
        "    Args:\n",
        "        simulator: the simulator class instance\n",
        "        \n",
        "    Returns:\n",
        "        A tuple (towards_obstacle_phi, towards_obstacle_dist) where\n",
        "        * towards_obstacle_phi: relative direction towards nearest obstacle (rad)\n",
        "        * towards_obstacle_dist: distance to nearest obstacle\n",
        "    \"\"\"\n",
        "    sensor_readings = simulator.getScan()\n",
        "\n",
        "    towards_obstacle_idx = np.argmin(sensor_readings[:,1])\n",
        "    towards_obstacle_phi = sensor_readings[towards_obstacle_idx, 0]\n",
        "    towards_obstacle_dist = sensor_readings[towards_obstacle_idx, 1]\n",
        "    \n",
        "    return towards_obstacle_phi, towards_obstacle_dist"
      ]
    },
    {
      "cell_type": "code",
      "execution_count": 6,
      "metadata": {
        "colab": {
          "base_uri": "https://localhost:8080/",
          "height": 297
        },
        "id": "ssLNmXsmgeTu",
        "outputId": "b8a78c83-e88f-4894-e770-52400af5935e"
      },
      "outputs": [
        {
          "data": {
            "image/png": "[encoded data removed]",
            "text/plain": [
              "<Figure size 432x288 with 1 Axes>"
            ]
          },
          "metadata": {
            "needs_background": "light"
          },
          "output_type": "display_data"
        }
      ],
      "source": [
        "stepSize = 1.0\n",
        "simulator = BugSim(objects, goal=goal_point, \n",
        "                   sensor_resolution=5/180*np.pi, view_range=50,\n",
        "                   safety_distance=5)\n",
        "simulator.spawn(x=spawn_pose[0], y=spawn_pose[1], theta=spawn_pose[2])\n",
        "\n",
        "plt.figure()\n",
        "simulator.drawBoard()\n",
        "simulator.showRobot()\n",
        "\n",
        "# -- TODO: Add your code here --\n",
        "goal_dist, toward_goal_phi, toward_goal_free_dist = getTowardsGoalState(simulator)\n",
        "toward_obstacle_phi, toward_obstacle_dist = getTowardsObstacleState(simulator)\n",
        "    \n",
        "while (simulator.getNumMoves()<100) and toward_obstacle_dist > simulator.safety_distance:\n",
        "  \n",
        "  simulator.forward(1)\n",
        "  simulator.turn(toward_goal_phi)\n",
        "  plt.plot(simulator.x, simulator.y, 'bo')\n",
        "\n",
        "  goal_dist, toward_goal_phi, toward_goal_free_dist = getTowardsGoalState(simulator)\n",
        "  toward_obstacle_phi, toward_obstacle_dist = getTowardsObstacleState(simulator)\n"
      ]
    },
    {
      "cell_type": "markdown",
      "metadata": {
        "id": "MU_x0CErgeTv"
      },
      "source": [
        "## Excercise 1.4: Move around obstacle\n",
        "\n",
        "The second part of preparing Bug1 is circumventing an obstacle at a safety distance specified in ``simulator.safety_distance``. Do so by implementing the closed-loop following as described in the lecture and have the robot do 400 steps. Don't worry about finding a leave point for now.\n",
        "\n",
        "The robot is initially placed on the border of the obstacle. Please use the same step size as above and make sure that your are using ``scenario=1`` when testing this. Write code both for turning left and right at the obstacle. \n",
        "\n",
        "Again, the functions ``getTowardsGoalState`` and ``getTowardsObstacleState`` may be helpful."
      ]
    },
    {
      "cell_type": "code",
      "execution_count": 32,
      "metadata": {
        "colab": {
          "base_uri": "https://localhost:8080/",
          "height": 1000
        },
        "id": "DrFclsXugeTv",
        "outputId": "e4c3867c-2661-4dba-a990-947e2ed49704"
      },
      "outputs": [
        {
          "data": {
            "image/png": "[encoded data removed]",
            "text/plain": [
              "<Figure size 432x288 with 1 Axes>"
            ]
          },
          "metadata": {
            "needs_background": "light"
          },
          "output_type": "display_data"
        }
      ],
      "source": [
        "assert scenario==1, 'Please use scenario 1 for this excercise!'\n",
        "\n",
        "simulator.spawn(x=100, y=55, theta=90/180. * np.pi)\n",
        "\n",
        "plt.figure()\n",
        "simulator.drawBoard()\n",
        "simulator.showRobot()\n",
        "\n",
        "go_right = False\n",
        "\n",
        "# -- TODO: Add your code here --\n",
        "goal_dist, toward_goal_phi, toward_goal_free_dist = getTowardsGoalState(simulator)\n",
        "toward_obstacle_phi, toward_obstacle_dist = getTowardsObstacleState(simulator)\n",
        "\n",
        "while (simulator.getNumMoves()<600) and goal_dist != 0:\n",
        "  D = toward_obstacle_dist\n",
        "  G = D - simulator.safety_distance\n",
        "  delta_G = toward_goal_phi\n",
        "  T = np.pi/2+toward_obstacle_phi\n",
        "\n",
        "\n",
        "  simulator.turn(T-np.tan(G))\n",
        "  simulator.forward(1)\n",
        "  plt.plot(simulator.x, simulator.y, 'bo')\n",
        "\n",
        "  goal_dist, toward_goal_phi, toward_goal_free_dist = getTowardsGoalState(simulator)\n",
        "  toward_obstacle_phi, toward_obstacle_dist = getTowardsObstacleState(simulator)\n",
        "    "
      ]
    },
    {
      "cell_type": "code",
      "execution_count": null,
      "metadata": {},
      "outputs": [],
      "source": [
        "assert scenario==1, 'Please use scenario 1 for this excercise!'\n",
        "\n",
        "simulator.spawn(x=100, y=55, theta=90/180. * np.pi)\n",
        "\n",
        "plt.figure()\n",
        "simulator.drawBoard()\n",
        "simulator.showRobot()\n",
        "\n",
        "go_right = False\n",
        "\n",
        "# -- TODO: Add your code here --\n",
        "goal_dist, toward_goal_phi, toward_goal_free_dist = getTowardsGoalState(simulator)\n",
        "toward_obstacle_phi, toward_obstacle_dist = getTowardsObstacleState(simulator)\n",
        "\n",
        "while (simulator.getNumMoves()<600) and goal_dist != 0:\n",
        "    if toward_goal_phi != np.pi/2:\n",
        "      simulator.turn(np.pi/2+toward_obstacle_phi)\n",
        "\n",
        "    simulator.forward(1)"
      ]
    },
    {
      "cell_type": "code",
      "execution_count": null,
      "metadata": {
        "id": "Tv3qxILYyzU8"
      },
      "outputs": [],
      "source": [
        "pos = simulator.getPose()\n",
        "  print(pos)\n",
        "  G = toward_obstacle_dist - simulator.safety_distance\n",
        "  print(G)\n",
        "  delta_G = G * np.array([ np.cos(toward_obstacle_phi), np.sin(toward_obstacle_phi)])\n",
        "  print(delta_G)\n",
        "  delta_star_G = delta_G / np.abs(delta_G)\n",
        "  print(delta_star_G)\n",
        "  T = delta_star_G + np.pi\n",
        "  print(T)\n",
        "  x = 0.01*(T - 0.1 *delta_star_G@delta_G)\n",
        "  print(x)\n",
        "  Turn = np.arccos(x[1],abs(x))\n",
        "  print(Turn)\n",
        "  simulator.turn(Turn)\n",
        "  simulator.forward(1)\n",
        "  goal_dist, toward_goal_phi, toward_goal_free_dist = getTowardsGoalState(simulator)\n",
        "  toward_obstacle_phi, toward_obstacle_dist = getTowardsObstacleState(simulator)"
      ]
    },
    {
      "cell_type": "markdown",
      "metadata": {
        "id": "qKdN6ocogeTw"
      },
      "source": [
        "## Excercise 1.5: Putting everything together\n",
        "\n",
        "Now, write the full Bug1 algorithm as described in the lecture slides.\n",
        "\n",
        "**Hints**: \n",
        "1. First, implement the two functions ``moveTowardsGoal`` and ``moveAroundObstacle``  based on the previous excercises.  \n",
        "2. You may select a fixed direction (left or right) when returning to the best leave point. Choosing the shortest distance to the leave point may be omitted for simplicity.\n",
        "3. When checking if a leave point or safety distance to obstacle is reached, keep in mind that the robot may not hit leave points or safety distances to obstacles perfectly accurate."
      ]
    },
    {
      "cell_type": "code",
      "execution_count": null,
      "metadata": {
        "id": "mBvUyVMcgeTw"
      },
      "outputs": [],
      "source": [
        "stepSize = 1.0\n",
        "maxMoves = 3000\n",
        "\n",
        "simulator = BugSim(objects, goal=goal_point, \n",
        "                   sensor_resolution=5/180*np.pi, view_range=50,\n",
        "                   safety_distance=5)\n",
        "simulator.spawn(x=spawn_pose[0], y=spawn_pose[1], theta=spawn_pose[2])\n",
        "\n",
        "plt.figure()\n",
        "simulator.drawBoard()\n",
        "simulator.showRobot()\n",
        "\n",
        "def moveTowardsGoal(simulator, stepSize, maxTotalMoves=1000):\n",
        "    \"\"\"Move in a straigt line towards the goal.\n",
        "    \n",
        "    This will move the robot towards the obstacle until the goal is reached,  \n",
        "    an obstacle is encountered within the safety distance, or the maximum \n",
        "    number of steps has been exceeded.\n",
        "    \n",
        "    Args:\n",
        "        simulator: the simulator object\n",
        "        stepSize: the distance to move in each forward step\n",
        "        maxTotalMoves: stop execution after maxTotalMoves\n",
        "        \n",
        "    Returns:\n",
        "        True if the goal has been reached, False otherwise.\n",
        "    \"\"\"\n",
        "    # -- TODO: Add your code here --\n",
        "    goal_dist, toward_goal_phi, toward_goal_free_dist = getTowardsGoalState(simulator)\n",
        "    simulator.turn(toward_goal_phi)\n",
        "    simulator.forward(stepSize if goal_dist > stepSize and toward_goal_free_dist > stepSize else goal_dist if goal_dist < stepSize and toward_goal_free_dist > goal_dist else toward_goal_free_dist)\n",
        "\n",
        "def moveAroundObstacle(simulator, stepSize, targetPos, \n",
        "                       go_right=False, maxTotalMoves=1000):\n",
        "    \"\"\"Circumvent an obstacle.\n",
        "    \n",
        "    This will move the robot towards the obstacle until the goal \n",
        "    is reached, the robot arrives close to a given target position, \n",
        "    or the maximum number of steps has been exceeded.\n",
        "    \n",
        "    Args:\n",
        "        simulator: the simulator object\n",
        "        stepSize: the distance to move in each forward step\n",
        "        targetPos: the target position at the border of the obstacle\n",
        "            (e.g. the hit point or the leave point)\n",
        "        go_right: True if robot should go right at obstacle   \n",
        "        maxTotalMoves: stop execution after maxTotalMoves\n",
        "        \n",
        "    Returns:\n",
        "        True if the goal has been reached, False otherwise.\n",
        "    \"\"\"\n",
        "    # -- TODO: Add your code here --\n",
        "    \n",
        "    \n",
        "goal_dist, _, _ = getTowardsGoalState(simulator)\n",
        "reached_goal = goal_dist <= stepSize\n",
        "\n",
        "# -- TODO: Add your code here --\n",
        "while (not reached_goal) and ...:\n",
        "    "
      ]
    },
    {
      "cell_type": "markdown",
      "metadata": {
        "id": "9XtJL5GtgeTx"
      },
      "source": [
        "If you were able to solve the task, you may use the next section to create an anmiation of your robot:"
      ]
    },
    {
      "cell_type": "code",
      "execution_count": null,
      "metadata": {
        "id": "O5JlBApsgeTx"
      },
      "outputs": [],
      "source": [
        "anim = simulator.animate(skipFrames=2)\n",
        "rc('animation', html='jshtml')\n",
        "anim"
      ]
    },
    {
      "cell_type": "markdown",
      "metadata": {
        "id": "QjFerSUpgeTx"
      },
      "source": [
        "## Optional excercises\n",
        "\n",
        "* Create your own scenarios and test the algorithm.\n",
        "* Write code for Bug2 or Tangent Bug."
      ]
    }
  ],
  "metadata": {
    "colab": {
      "include_colab_link": true,
      "provenance": []
    },
    "kernelspec": {
      "display_name": "Python 3.10.4 64-bit",
      "language": "python",
      "name": "python3"
    },
    "language_info": {
      "codemirror_mode": {
        "name": "ipython",
        "version": 3
      },
      "file_extension": ".py",
      "mimetype": "text/x-python",
      "name": "python",
      "nbconvert_exporter": "python",
      "pygments_lexer": "ipython3",
      "version": "3.10.4"
    },
    "latex_envs": {
      "LaTeX_envs_menu_present": true,
      "autoclose": false,
      "autocomplete": true,
      "bibliofile": "biblio.bib",
      "cite_by": "apalike",
      "current_citInitial": 1,
      "eqLabelWithNumbers": true,
      "eqNumInitial": 1,
      "hotkeys": {
        "equation": "Ctrl-E",
        "itemize": "Ctrl-I"
      },
      "labels_anchors": false,
      "latex_user_defs": false,
      "report_style_numbering": false,
      "user_envs_cfg": false
    },
    "varInspector": {
      "cols": {
        "lenName": 16,
        "lenType": 16,
        "lenVar": 40
      },
      "kernels_config": {
        "python": {
          "delete_cmd_postfix": "",
          "delete_cmd_prefix": "del ",
          "library": "var_list.py",
          "varRefreshCmd": "print(var_dic_list())"
        },
        "r": {
          "delete_cmd_postfix": ") ",
          "delete_cmd_prefix": "rm(",
          "library": "var_list.r",
          "varRefreshCmd": "cat(var_dic_list()) "
        }
      },
      "types_to_exclude": [
        "module",
        "function",
        "builtin_function_or_method",
        "instance",
        "_Feature"
      ],
      "window_display": false
    },
    "vscode": {
      "interpreter": {
        "hash": "9da9d52195322e173d33ae2e6a5687ee9810f43282d66f05579a543f3ee9968b"
      }
    }
  },
  "nbformat": 4,
  "nbformat_minor": 0
}
