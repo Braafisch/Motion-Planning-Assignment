{
  "cells": [
    {
      "cell_type": "code",
      "execution_count": 31,
      "metadata": {
        "id": "JLbGn09JQ1EM"
      },
      "outputs": [],
      "source": [
        "from pickle import NEXT_BUFFER\n",
        "# from src/behavior_generation_lecture_python/mdp/mdp.py\n",
        "import math\n",
        "from typing import Any, Dict, List, Optional, Set, Tuple, Union\n",
        "\n",
        "import numpy as np\n",
        "\n",
        "SIMPLE_MDP_DICT = {\n",
        "    \"states\": [1, 2],\n",
        "    \"actions\": [\"A\", \"B\"],\n",
        "    \"initial_state\": 1,\n",
        "    \"terminal_states\": [2],\n",
        "    \"transition_probabilities\": {\n",
        "        (1, \"A\"): [(0.2, 1), (0.8, 2)],\n",
        "        (1, \"B\"): [(0.5, 1), (0.5, 2)],\n",
        "        (2, \"A\"): [(1.0, 1)],\n",
        "        (2, \"B\"): [(0.3, 1), (0.7, 2)],\n",
        "    },\n",
        "    \"reward\": {1: -0.1, 2: -0.5},\n",
        "}\n",
        "\n",
        "GRID_MDP_DICT = {\n",
        "    \"grid\": [\n",
        "        [-0.04, -0.04, -0.04, +1],\n",
        "        [-0.04, None, -0.04, -1],\n",
        "        [-0.04, -0.04, -0.04, -0.04],\n",
        "    ],\n",
        "    \"initial_state\": (1, 0),\n",
        "    \"terminal_states\": {(3, 2), (3, 1)},\n",
        "    \"transition_probabilities_per_action\": {\n",
        "        (0, 1): [(0.8, (0, 1)), (0.1, (1, 0)), (0.1, (-1, 0))],\n",
        "        (0, -1): [(0.8, (0, -1)), (0.1, (1, 0)), (0.1, (-1, 0))],\n",
        "        (1, 0): [(0.8, (1, 0)), (0.1, (0, 1)), (0.1, (0, -1))],\n",
        "        (-1, 0): [(0.8, (-1, 0)), (0.1, (0, 1)), (0.1, (0, -1))],\n",
        "    },\n",
        "}\n",
        "\n",
        "LC_LEFT_ACTION, STAY_IN_LANE_ACTION, LC_RIGHT_ACTION = (1, 1), (1, 0), (1, -1)\n",
        "\n",
        "HIGHWAY_MDP_DICT = {\n",
        "    \"grid\": [\n",
        "        [0, -1, -1, -1, -1, -1, -1, -1, -1, -50],\n",
        "        [0, -2, -2, -2, -2, -2, -2, -2, -2, -50],\n",
        "        [0, -3, -3, -3, -3, -3, -3, -3, -3, -50],\n",
        "        [None, None, None, None, None, None, -2, -2, -2, 0],\n",
        "    ],\n",
        "    \"initial_state\": (0, 2),\n",
        "    \"terminal_states\": {(9, 3), (9, 1), (9, 2), (9, 0)},\n",
        "    \"transition_probabilities_per_action\": {\n",
        "        STAY_IN_LANE_ACTION: [(1.0, STAY_IN_LANE_ACTION)],\n",
        "        LC_LEFT_ACTION: [(0.5, LC_LEFT_ACTION), (0.5, STAY_IN_LANE_ACTION)],\n",
        "        LC_RIGHT_ACTION: [(0.75, LC_RIGHT_ACTION), (0.25, STAY_IN_LANE_ACTION)],\n",
        "    },\n",
        "    \"restrict_actions_to_available_states\": True,\n",
        "}\n",
        "\n",
        "\n",
        "class MDP:\n",
        "    def __init__(\n",
        "        self,\n",
        "        states: Set[Any],\n",
        "        actions: Set[Any],\n",
        "        initial_state: Any,\n",
        "        terminal_states: Set[Any],\n",
        "        transition_probabilities: Dict[Tuple[Any, Any], List[Tuple[float, Any]]],\n",
        "        reward: Dict[Any, float],\n",
        "    ) -> None:\n",
        "        \"\"\"A Markov decision process.\n",
        "\n",
        "        Args:\n",
        "            states: Set of states.\n",
        "            actions: Set of actions.\n",
        "            initial_state: Initial state.\n",
        "            terminal_states: Set of terminal states.\n",
        "            transition_probabilities: Dictionary of transition\n",
        "                probabilities, mapping from tuple (state, action) to\n",
        "                list of tuples (probability, next state).\n",
        "            reward: Dictionary of rewards per state, mapping from state\n",
        "                to reward.\n",
        "        \"\"\"\n",
        "        self.states = states\n",
        "\n",
        "        self.actions = actions\n",
        "\n",
        "        assert initial_state in self.states\n",
        "        self.initial_state = initial_state\n",
        "\n",
        "        for terminal_state in terminal_states:\n",
        "            assert (\n",
        "                terminal_state in self.states\n",
        "            ), f\"The terminal state {terminal_state} is not in states {states}\"\n",
        "        self.terminal_states = terminal_states\n",
        "\n",
        "        for state in self.states:\n",
        "            for action in self.actions:\n",
        "                if (state, action) not in transition_probabilities:\n",
        "                    continue\n",
        "                total_prob = 0\n",
        "                for prob, next_state in transition_probabilities[(state, action)]:\n",
        "                    assert (\n",
        "                        next_state in self.states\n",
        "                    ), f\"next_state={next_state} is not in states={states}\"\n",
        "                    total_prob += prob\n",
        "                assert math.isclose(total_prob, 1), \"Probabilities must add to one\"\n",
        "        self.transition_probabilities = transition_probabilities\n",
        "\n",
        "        assert set(reward.keys()) == set(\n",
        "            self.states\n",
        "        ), \"Rewards must be defined for every state in the set of states\"\n",
        "        for state in self.states:\n",
        "            assert reward[state] is not None\n",
        "        self.reward = reward\n",
        "\n",
        "    def get_states(self) -> Set[Any]:\n",
        "        \"\"\"Get the set of states.\"\"\"\n",
        "        return self.states\n",
        "\n",
        "    def get_actions(self, state) -> Set[Any]:\n",
        "        \"\"\"Get the set of actions available in a certain state, returns [None] for terminal states.\"\"\"\n",
        "        if self.is_terminal(state):\n",
        "            return {None}\n",
        "        return set(\n",
        "            [a for a in self.actions if (state, a) in self.transition_probabilities]\n",
        "        )\n",
        "\n",
        "    def get_reward(self, state) -> float:\n",
        "        \"\"\"Get the reward for a specific state.\"\"\"\n",
        "        return self.reward[state]\n",
        "\n",
        "    def is_terminal(self, state) -> bool:\n",
        "        \"\"\"Return whether a state is a terminal state.\"\"\"\n",
        "        return state in self.terminal_states\n",
        "\n",
        "    def get_transitions_with_probabilities(\n",
        "        self, state, action\n",
        "    ) -> List[Tuple[float, Any]]:\n",
        "        \"\"\"Get the list of transitions with their probability, returns [(0.0, state)] for terminal states.\"\"\"\n",
        "        if action is None or self.is_terminal(state):\n",
        "            return [(0.0, state)]\n",
        "        return self.transition_probabilities[(state, action)]\n",
        "\n",
        "    def sample_next_state(self, state, action):\n",
        "        if self.is_terminal(state):\n",
        "            return ValueError(\"No next state for terminal states.\")\n",
        "        if action is None:\n",
        "            return ValueError(\"Action must not be None.\")\n",
        "        prob_per_transition = self.get_transitions_with_probabilities(state, action)\n",
        "        num_actions = len(prob_per_transition)\n",
        "        choice = np.random.choice(\n",
        "            num_actions, 1, p=[ppa[0] for ppa in prob_per_transition]\n",
        "        )\n",
        "        return prob_per_transition[int(choice)][1]\n",
        "\n",
        "\n",
        "class GridMDP(MDP):\n",
        "    def __init__(\n",
        "        self,\n",
        "        grid: List[List[Union[float, None]]],\n",
        "        initial_state: Tuple[int, int],\n",
        "        terminal_states: Set[Tuple[int, int]],\n",
        "        transition_probabilities_per_action: Dict[\n",
        "            Tuple[int, int], List[Tuple[float, Tuple[int, int]]]\n",
        "        ],\n",
        "        restrict_actions_to_available_states: Optional[bool] = False,\n",
        "    ) -> None:\n",
        "        \"\"\"A Markov decision process on a grid.\n",
        "\n",
        "        Args:\n",
        "            grid: List of lists, containing the rewards of the grid\n",
        "                states or None.\n",
        "            initial_state: Initial state in the grid.\n",
        "            terminal_states: Set of terminal states in the grid.\n",
        "            transition_probabilities_per_action: Dictionary of\n",
        "                transition probabilities per action, mapping from action\n",
        "                to list of tuples (probability, next state).\n",
        "            restrict_actions_to_available_states: Whether to restrict\n",
        "                actions to those that result in valid next states.\n",
        "        \"\"\"\n",
        "        states = set()\n",
        "        reward = {}\n",
        "        grid = grid.copy()\n",
        "        grid.reverse()  # y-axis pointing upwards\n",
        "        rows = len(grid)\n",
        "        cols = len(grid[0])\n",
        "        self.grid = grid\n",
        "        for x in range(cols):\n",
        "            for y in range(rows):\n",
        "                if grid[y][x] is not None:\n",
        "                    states.add((x, y))\n",
        "                    reward[(x, y)] = grid[y][x]\n",
        "\n",
        "        transition_probabilities = {}\n",
        "        for state in states:\n",
        "            for action in transition_probabilities_per_action.keys():\n",
        "                transition_probability_list = self._generate_transition_probability_list(\n",
        "                    state=state,\n",
        "                    action=action,\n",
        "                    restrict_actions_to_available_states=restrict_actions_to_available_states,\n",
        "                    states=states,\n",
        "                    transition_probabilities_per_action=transition_probabilities_per_action,\n",
        "                    next_state_fn=self._next_state_deterministic,\n",
        "                )\n",
        "                if transition_probability_list:\n",
        "                    transition_probabilities[\n",
        "                        (state, action)\n",
        "                    ] = transition_probability_list\n",
        "\n",
        "        super().__init__(\n",
        "            states=states,\n",
        "            actions=set(transition_probabilities_per_action.keys()),\n",
        "            initial_state=initial_state,\n",
        "            terminal_states=terminal_states,\n",
        "            transition_probabilities=transition_probabilities,\n",
        "            reward=reward,\n",
        "        )\n",
        "\n",
        "    @staticmethod\n",
        "    def _generate_transition_probability_list(\n",
        "        state,\n",
        "        action,\n",
        "        restrict_actions_to_available_states,\n",
        "        states,\n",
        "        transition_probabilities_per_action,\n",
        "        next_state_fn,\n",
        "    ):\n",
        "        \"\"\"Generate the transition probability list of the grid.\"\"\"\n",
        "        transition_probability_list = []\n",
        "        none_in_next_states = False\n",
        "        for (\n",
        "            probability,\n",
        "            deterministic_action,\n",
        "        ) in transition_probabilities_per_action[action]:\n",
        "            next_state = next_state_fn(\n",
        "                state,\n",
        "                deterministic_action,\n",
        "                states,\n",
        "                output_none_if_non_existing_state=restrict_actions_to_available_states,\n",
        "            )\n",
        "            if next_state is None:\n",
        "                none_in_next_states = True\n",
        "                break\n",
        "            transition_probability_list.append((probability, next_state))\n",
        "\n",
        "        if not none_in_next_states:\n",
        "            return transition_probability_list\n",
        "\n",
        "        return []\n",
        "\n",
        "    @staticmethod\n",
        "    def _next_state_deterministic(\n",
        "        state, action, states, output_none_if_non_existing_state=False\n",
        "    ):\n",
        "        \"\"\"Output the next state given the action in a deterministic setting.\n",
        "        Output None if next state not existing in case output_none_if_non_existing_state is True.\n",
        "        \"\"\"\n",
        "        next_state_candidate = tuple(np.array(state) + np.array(action))\n",
        "        if next_state_candidate in states:\n",
        "            return next_state_candidate\n",
        "        if output_none_if_non_existing_state:\n",
        "            return None\n",
        "        return state\n",
        "\n",
        "\n",
        "def expected_utility_of_action(\n",
        "    mdp: MDP, state: Any, action: Any, utility_of_states: Dict[Any, float]\n",
        ") -> float:\n",
        "    \"\"\"Compute the expected utility of taking an action in a state.\n",
        "\n",
        "    Args:\n",
        "        mdp: The underlying MDP.\n",
        "        state: The start state.\n",
        "        action: The action to be taken.\n",
        "        utility_of_states: The dictionary containing the utility\n",
        "            (estimate) of all states.\n",
        "\n",
        "    Returns:\n",
        "        Expected utility\n",
        "    \"\"\"\n",
        "    return sum(\n",
        "        p * utility_of_states[next_state]\n",
        "        for (p, next_state) in mdp.get_transitions_with_probabilities(\n",
        "            state=state, action=action\n",
        "        )\n",
        "    )\n",
        "\n",
        "\n",
        "def derive_policy(mdp: MDP, utility_of_states: Dict[Any, float]) -> Dict[Any, Any]:\n",
        "    \"\"\"Compute the best policy for an MDP given the utility of the states.\n",
        "\n",
        "    Args:\n",
        "        mdp: The underlying MDP.\n",
        "        utility_of_states: The dictionary containing the utility\n",
        "            (estimate) of all states.\n",
        "\n",
        "    Returns:\n",
        "        Policy, i.e. mapping from state to action.\n",
        "    \"\"\"\n",
        "    pi = {}\n",
        "    for state in mdp.get_states():\n",
        "        pi[state] = max(\n",
        "            mdp.get_actions(state),\n",
        "            key=lambda action: expected_utility_of_action(\n",
        "                mdp=mdp, state=state, action=action, utility_of_states=utility_of_states\n",
        "            ),\n",
        "        )\n",
        "    return pi\n",
        "\n",
        "\n",
        "def value_iteration(\n",
        "    mdp: MDP,\n",
        "    epsilon: float,\n",
        "    max_iterations: int,\n",
        "    return_history: Optional[bool] = False,\n",
        ") -> Union[Dict[Any, float], List[Dict[Any, float]]]:\n",
        "    \"\"\"Derive a utility estimate by means of value iteration.\n",
        "\n",
        "    Args:\n",
        "        mdp: The underlying MDP.\n",
        "        epsilon: Termination criterion: if maximum difference in utility\n",
        "            update is below epsilon, the iteration is terminated.\n",
        "        max_iterations: Maximum number of iterations, if exceeded,\n",
        "            RuntimeError is raised.\n",
        "        return_history: Whether to return the whole history of utilities\n",
        "            instead of just the final estimate.\n",
        "\n",
        "    Returns:\n",
        "        The final utility estimate, if return_history is false. The\n",
        "        history of utility estimates as list, if return_history is true.\n",
        "    \"\"\"\n",
        "    utility = {state: 0 for state in mdp.get_states()}\n",
        "    utility_history = []\n",
        "    for _ in range(max_iterations):\n",
        "        utility_old = utility.copy()\n",
        "        max_delta = 0\n",
        "        for state in mdp.get_states():\n",
        "            utility[state] = mdp.get_reward(state) + max(\n",
        "                expected_utility_of_action(\n",
        "                    mdp, state=state, action=action, utility_of_states=utility_old\n",
        "                )\n",
        "                for action in mdp.get_actions(state)\n",
        "            )\n",
        "            max_delta = max(max_delta, abs(utility[state] - utility_old[state]))\n",
        "        if return_history:\n",
        "            utility_history.append(utility.copy())\n",
        "        if max_delta < epsilon:\n",
        "            if return_history:\n",
        "                return utility_history\n",
        "            return utility\n",
        "    raise RuntimeError(f\"Did not converge in {max_iterations} iterations\")\n",
        "\n",
        "\n",
        "def best_action_from_q_table(state, available_actions, q_table):\n",
        "    available_actions = list(available_actions)\n",
        "    values = np.array([q_table[(state, action)] for action in available_actions])\n",
        "    action = available_actions[np.argmax(values)]\n",
        "    return action\n",
        "\n",
        "\n",
        "def random_action(available_actions):\n",
        "    available_actions = list(available_actions)\n",
        "    num_actions = len(available_actions)\n",
        "    choice = np.random.choice(num_actions, 1)\n",
        "    return available_actions[int(choice)]\n",
        "\n",
        "\n",
        "def greedy_estimate_for_state(q_table, state):\n",
        "    available_actions = [\n",
        "        state_action[1] for state_action in q_table.keys() if state_action[0] == state\n",
        "    ]\n",
        "    return max([q_table[(state, action)] for action in available_actions])\n",
        "\n",
        "\n",
        "def q_learning(\n",
        "    mdp: MDP,\n",
        "    alpha: float,\n",
        "    epsilon: float,\n",
        "    iterations: int,\n",
        "    return_history: Optional[bool] = False,\n",
        "):\n",
        "    q_table = {}\n",
        "    for state in mdp.get_states():\n",
        "        for action in mdp.get_actions(state):\n",
        "            q_table[(state, action)] = 0\n",
        "    q_table_history = []\n",
        "    state = mdp.initial_state\n",
        "\n",
        "    np.random.seed(1337)\n",
        "\n",
        "    for _ in range(iterations):\n",
        "        q_table_old = q_table.copy()\n",
        "\n",
        "        # available actions:\n",
        "        avail_actions = mdp.get_actions(state)\n",
        "\n",
        "        # todo: implement action choice: chosen_action = ...\n",
        "        chosen_action = best_action_from_q_table(state, avail_actions, q_table)\n",
        "\n",
        "        # interact with the environment\n",
        "        next_state = mdp.sample_next_state(state, chosen_action)\n",
        "\n",
        "        # todo: update Q-table: q_table[(state, chosen_action)] = ...\n",
        "        #print(chosen_action)\n",
        "        q_table[(state, chosen_action)] = q_table[(state, chosen_action)] + alpha *(mdp.get_reward(next_state) + greedy_estimate_for_state(q_table,next_state) - q_table[(state, chosen_action)])\n",
        "\n",
        "        if return_history:\n",
        "            q_table_history.append(q_table.copy())\n",
        "\n",
        "        if mdp.is_terminal(next_state):\n",
        "            state = mdp.initial_state  # restart\n",
        "        else:\n",
        "            state = next_state  # continue\n",
        "\n",
        "    if return_history:\n",
        "        utility_history = []\n",
        "        for q_tab in q_table_history:\n",
        "            utility_history.append(\n",
        "                {\n",
        "                    state: greedy_estimate_for_state(q_tab, state)\n",
        "                    for state in mdp.get_states()\n",
        "                }\n",
        "            )\n",
        "        return utility_history\n",
        "\n",
        "    return {\n",
        "        state: greedy_estimate_for_state(q_table, state) for state in mdp.get_states()\n",
        "    }"
      ]
    },
    {
      "cell_type": "code",
      "execution_count": 4,
      "metadata": {
        "id": "8zvRJhAFQ1ER"
      },
      "outputs": [],
      "source": [
        "# From https://github.com/aimacode/aima-python\n",
        "\"\"\"\n",
        "The MIT License (MIT)\n",
        "\n",
        "Copyright (c) 2016 aima-python contributors\n",
        "\n",
        "Permission is hereby granted, free of charge, to any person obtaining a copy of this software and associated documentation files (the \"Software\"), to deal in the Software without restriction, including without limitation the rights to use, copy, modify, merge, publish, distribute, sublicense, and/or sell copies of the Software, and to permit persons to whom the Software is furnished to do so, subject to the following conditions:\n",
        "\n",
        "The above copyright notice and this permission notice shall be included in all copies or substantial portions of the Software.\n",
        "\n",
        "THE SOFTWARE IS PROVIDED \"AS IS\", WITHOUT WARRANTY OF ANY KIND, EXPRESS OR IMPLIED, INCLUDING BUT NOT LIMITED TO THE WARRANTIES OF MERCHANTABILITY, FITNESS FOR A PARTICULAR PURPOSE AND NONINFRINGEMENT. IN NO EVENT SHALL THE AUTHORS OR COPYRIGHT HOLDERS BE LIABLE FOR ANY CLAIM, DAMAGES OR OTHER LIABILITY, WHETHER IN AN ACTION OF CONTRACT, TORT OR OTHERWISE, ARISING FROM, OUT OF OR IN CONNECTION WITH THE SOFTWARE OR THE USE OR OTHER DEALINGS IN THE SOFTWARE.\n",
        "\"\"\"\n",
        "from collections import defaultdict\n",
        "import matplotlib.pyplot as plt\n",
        "\n",
        "\n",
        "def make_plot_grid_step_function(columns, rows, U_over_time, show=True):\n",
        "    \"\"\"ipywidgets interactive function supports single parameter as input.\n",
        "    This function creates and return such a function by taking as input\n",
        "    other parameters.\"\"\"\n",
        "\n",
        "    def plot_grid_step(iteration):\n",
        "        data = U_over_time[iteration]\n",
        "        data = defaultdict(lambda: 0, data)\n",
        "        grid = []\n",
        "        for row in range(rows):\n",
        "            current_row = []\n",
        "            for column in range(columns):\n",
        "                current_row.append(data[(column, row)])\n",
        "            grid.append(current_row)\n",
        "        grid.reverse()  # output like book\n",
        "        grid = [[-200 if y is None else y for y in x] for x in grid]\n",
        "        fig = plt.imshow(grid, cmap=plt.cm.bwr, interpolation=\"nearest\")\n",
        "\n",
        "        plt.axis(\"off\")\n",
        "        fig.axes.get_xaxis().set_visible(False)\n",
        "        fig.axes.get_yaxis().set_visible(False)\n",
        "\n",
        "        for col in range(len(grid)):\n",
        "            for row in range(len(grid[0])):\n",
        "                magic = grid[col][row]\n",
        "                fig.axes.text(\n",
        "                    row, col, \"{0:.2f}\".format(magic), va=\"center\", ha=\"center\"\n",
        "                )\n",
        "        if show:\n",
        "            plt.show()\n",
        "\n",
        "    return plot_grid_step"
      ]
    },
    {
      "cell_type": "code",
      "execution_count": 5,
      "metadata": {
        "id": "7s7riM6JQ1ET"
      },
      "outputs": [],
      "source": [
        "import numpy as np\n",
        "\n",
        "\n",
        "def make_plot_policy_step_function(columns, rows, policy_over_time, show=True):\n",
        "    def plot_grid_step(iteration):\n",
        "        data = policy_over_time[iteration]\n",
        "        for row in range(rows):\n",
        "            for col in range(columns):\n",
        "                if not (col, row) in data:\n",
        "                    continue\n",
        "                x = col + 0.5\n",
        "                y = row + 0.5\n",
        "                if data[(col, row)] is None:\n",
        "                    plt.scatter([x], [y], color=\"black\")\n",
        "                    continue\n",
        "                dx = data[(col, row)][0]\n",
        "                dy = data[(col, row)][1]\n",
        "                scaling = np.sqrt(dx**2.0 + dy**2.0) * 2.5\n",
        "                dx /= scaling\n",
        "                dy /= scaling\n",
        "                plt.arrow(x, y, dx, dy)\n",
        "        plt.axis(\"equal\")\n",
        "        plt.xlim([0, columns])\n",
        "        plt.ylim([0, rows])\n",
        "        if show:\n",
        "            plt.show()\n",
        "\n",
        "    return plot_grid_step"
      ]
    },
    {
      "cell_type": "markdown",
      "metadata": {
        "id": "X4FzfZvwQ1EV"
      },
      "source": [
        "## TOY EXAMPLE"
      ]
    },
    {
      "cell_type": "code",
      "execution_count": 6,
      "metadata": {
        "id": "bfb0aLPQQ1EW"
      },
      "outputs": [],
      "source": [
        "grid_mdp = GridMDP(**GRID_MDP_DICT)"
      ]
    },
    {
      "cell_type": "code",
      "execution_count": 7,
      "metadata": {
        "id": "ZRhfO4QmQ1EY"
      },
      "outputs": [],
      "source": [
        "computed_utility_history = value_iteration(\n",
        "    mdp=grid_mdp, epsilon=0.001, max_iterations=30, return_history=True\n",
        ")"
      ]
    },
    {
      "cell_type": "code",
      "execution_count": 8,
      "metadata": {
        "id": "NFNXBxqhQ1EZ"
      },
      "outputs": [],
      "source": [
        "%matplotlib inline\n",
        "plot_grid_step = make_plot_grid_step_function(\n",
        "    columns=4, rows=3, U_over_time=computed_utility_history\n",
        ")"
      ]
    },
    {
      "cell_type": "code",
      "execution_count": 32,
      "metadata": {
        "scrolled": false,
        "id": "moibWLfRQ1Ea",
        "outputId": "2b034a33-99b0-4d2b-b302-6632c67325f6",
        "colab": {
          "base_uri": "https://localhost:8080/",
          "height": 280,
          "referenced_widgets": [
            "998b6cf9b3fc40f19c6e0d8c473ba150",
            "cd04777f36694e86a6009aa7bc155aad",
            "af2cbfb477974c0fbe56b1586ab0b6bd",
            "ee109fd4372048bfb5aded984ae0b091",
            "e3ff177d5cbd4bfe9bd729cbb0a1331b",
            "951d4f31b16f433e91a32bb3a709f7de",
            "c308564ac431414f85cb94c888531fa3"
          ]
        }
      },
      "outputs": [
        {
          "output_type": "display_data",
          "data": {
            "text/plain": [
              "interactive(children=(IntSlider(value=0, description='iteration', max=19), Output()), _dom_classes=('widget-in…"
            ],
            "application/vnd.jupyter.widget-view+json": {
              "version_major": 2,
              "version_minor": 0,
              "model_id": "998b6cf9b3fc40f19c6e0d8c473ba150"
            }
          },
          "metadata": {}
        }
      ],
      "source": [
        "mkdocs_flag = True  # set to true if you are running the notebook locally\n",
        "if mkdocs_flag:\n",
        "    import ipywidgets\n",
        "    from IPython.display import display\n",
        "\n",
        "    iteration_slider = ipywidgets.IntSlider(\n",
        "        min=0, max=len(computed_utility_history) - 1, step=1, value=0\n",
        "    )\n",
        "    w = ipywidgets.interactive(plot_grid_step, iteration=iteration_slider)\n",
        "    display(w)"
      ]
    },
    {
      "cell_type": "code",
      "execution_count": 10,
      "metadata": {
        "id": "qODEjLiKQ1Eb",
        "outputId": "62f339e6-dbd2-43f1-c825-8979113b69a2",
        "colab": {
          "base_uri": "https://localhost:8080/",
          "height": 248
        }
      },
      "outputs": [
        {
          "output_type": "display_data",
          "data": {
            "text/plain": [
              "<Figure size 432x288 with 1 Axes>"
            ],
            "image/png": "[encoded data removed]"
          },
          "metadata": {
            "needs_background": "light"
          }
        }
      ],
      "source": [
        "plot_grid_step(19)"
      ]
    },
    {
      "cell_type": "markdown",
      "metadata": {
        "id": "eSE21z39Q1Ed"
      },
      "source": [
        "## Q-Learning"
      ]
    },
    {
      "cell_type": "code",
      "execution_count": 23,
      "metadata": {
        "id": "OK3BjHNaQ1Ee"
      },
      "outputs": [],
      "source": [
        "computed_utility_history_q = q_learning(\n",
        "    mdp=grid_mdp, alpha=0.1, epsilon=0.1, iterations=10000, return_history=True\n",
        ")"
      ]
    },
    {
      "cell_type": "code",
      "execution_count": 24,
      "metadata": {
        "id": "CTuTbd6IQ1Ee"
      },
      "outputs": [],
      "source": [
        "%matplotlib inline\n",
        "plot_grid_step_q = make_plot_grid_step_function(\n",
        "    columns=4, rows=3, U_over_time=computed_utility_history_q\n",
        ")"
      ]
    },
    {
      "cell_type": "code",
      "execution_count": 25,
      "metadata": {
        "id": "w8K9uisnQ1Ef",
        "outputId": "5f5bd64b-077e-42d7-b1eb-8acee63aa449",
        "colab": {
          "base_uri": "https://localhost:8080/",
          "height": 280,
          "referenced_widgets": [
            "ac109e6a29aa45e49b04070c43ec253c",
            "2c5ae56252a24a42b86bbbbbeb822dd2",
            "e06a75e8c5c64d61aec735939e36a222",
            "fd45754e94b3462d87d5a6054e15ca77",
            "37af1788e6ab47728606b87a69cbddc6",
            "71216b05c8b246e092e7474532e82553",
            "87bd189d6f80409e8fe9f5a63ec2e3dc"
          ]
        }
      },
      "outputs": [
        {
          "output_type": "display_data",
          "data": {
            "text/plain": [
              "interactive(children=(IntSlider(value=0, description='iteration', max=9999), Output()), _dom_classes=('widget-…"
            ],
            "application/vnd.jupyter.widget-view+json": {
              "version_major": 2,
              "version_minor": 0,
              "model_id": "ac109e6a29aa45e49b04070c43ec253c"
            }
          },
          "metadata": {}
        }
      ],
      "source": [
        "if mkdocs_flag:\n",
        "    import ipywidgets\n",
        "    from IPython.display import display\n",
        "\n",
        "    iteration_slider = ipywidgets.IntSlider(\n",
        "        min=0, max=len(computed_utility_history_q) - 1, step=1, value=0\n",
        "    )\n",
        "    w = ipywidgets.interactive(plot_grid_step_q, iteration=iteration_slider)\n",
        "    display(w)"
      ]
    },
    {
      "cell_type": "markdown",
      "metadata": {
        "id": "4irpW350Q1Eg"
      },
      "source": [
        "## HIGHWAY EXAMPLE"
      ]
    },
    {
      "cell_type": "code",
      "execution_count": 26,
      "metadata": {
        "id": "O3qTl99vQ1Eg"
      },
      "outputs": [],
      "source": [
        "if False:\n",
        "    # we will change this to true later on, to see the effect\n",
        "    HIGHWAY_MDP_DICT[\"transition_probabilities_per_action\"][LC_RIGHT_ACTION] = [\n",
        "        (0.4, LC_RIGHT_ACTION),\n",
        "        (0.6, STAY_IN_LANE_ACTION),\n",
        "    ]"
      ]
    },
    {
      "cell_type": "code",
      "execution_count": 27,
      "metadata": {
        "id": "2NY5slfbQ1Eh"
      },
      "outputs": [],
      "source": [
        "highway_mdp = GridMDP(**HIGHWAY_MDP_DICT)"
      ]
    },
    {
      "cell_type": "code",
      "execution_count": 28,
      "metadata": {
        "id": "APPzn9f8Q1Ei"
      },
      "outputs": [],
      "source": [
        "utility_history_highway = value_iteration(\n",
        "    highway_mdp, epsilon=0.001, max_iterations=30, return_history=True\n",
        ")"
      ]
    },
    {
      "cell_type": "code",
      "execution_count": 29,
      "metadata": {
        "id": "G7gGab32Q1Ei"
      },
      "outputs": [],
      "source": [
        "plot_grid_step_highway = make_plot_grid_step_function(\n",
        "    columns=10, rows=4, U_over_time=utility_history_highway\n",
        ")"
      ]
    },
    {
      "cell_type": "code",
      "execution_count": 30,
      "metadata": {
        "scrolled": true,
        "id": "jrOgNJOQQ1Ej",
        "outputId": "935db223-6e47-490c-9991-5daf67269200",
        "colab": {
          "base_uri": "https://localhost:8080/",
          "height": 197,
          "referenced_widgets": [
            "9faa24a9990c4a83b09bf90b4d0c1295",
            "5ce708d51f2149baba00c4515eadf64d",
            "660531a24f9a4e5faff4d3758f96b91e",
            "182b9cd6ed174d7eadcdb89c8fa183f5",
            "35d0ab21336341379fb7b70b0d6bafba",
            "a3f0ee8404944aa7932426e550308d3d",
            "c96740aae67a4fbe9dc47e60315a9768"
          ]
        }
      },
      "outputs": [
        {
          "output_type": "display_data",
          "data": {
            "text/plain": [
              "interactive(children=(IntSlider(value=0, description='iteration', max=10), Output()), _dom_classes=('widget-in…"
            ],
            "application/vnd.jupyter.widget-view+json": {
              "version_major": 2,
              "version_minor": 0,
              "model_id": "9faa24a9990c4a83b09bf90b4d0c1295"
            }
          },
          "metadata": {}
        }
      ],
      "source": [
        "if mkdocs_flag:\n",
        "    iteration_slider = ipywidgets.IntSlider(\n",
        "        min=0, max=len(utility_history_highway) - 1, step=1, value=0\n",
        "    )\n",
        "    w = ipywidgets.interactive(plot_grid_step_highway, iteration=iteration_slider)\n",
        "    display(w)"
      ]
    },
    {
      "cell_type": "code",
      "execution_count": null,
      "metadata": {
        "id": "o5TVhLCAQ1Ej"
      },
      "outputs": [],
      "source": [
        "plot_grid_step_highway(10)"
      ]
    },
    {
      "cell_type": "code",
      "execution_count": null,
      "metadata": {
        "id": "7EKFjbydQ1Ek"
      },
      "outputs": [],
      "source": [
        "policy_array = [\n",
        "    derive_policy(highway_mdp, utility) for utility in utility_history_highway\n",
        "]"
      ]
    },
    {
      "cell_type": "code",
      "execution_count": null,
      "metadata": {
        "id": "xZiDihniQ1El"
      },
      "outputs": [],
      "source": [
        "plot_policy_step_highway = make_plot_policy_step_function(\n",
        "    columns=10, rows=4, policy_over_time=policy_array\n",
        ")"
      ]
    },
    {
      "cell_type": "code",
      "execution_count": null,
      "metadata": {
        "id": "iSmqB4kqQ1El"
      },
      "outputs": [],
      "source": [
        "if mkdocs_flag:\n",
        "    iteration_slider = ipywidgets.IntSlider(\n",
        "        min=0, max=len(utility_history_highway) - 1, step=1, value=0\n",
        "    )\n",
        "    w = ipywidgets.interactive(plot_policy_step_highway, iteration=iteration_slider)\n",
        "    display(w)"
      ]
    },
    {
      "cell_type": "code",
      "execution_count": null,
      "metadata": {
        "id": "7m14Ctx4Q1Em"
      },
      "outputs": [],
      "source": [
        "plot_policy_step_highway(10)"
      ]
    },
    {
      "cell_type": "markdown",
      "metadata": {
        "id": "MTtR5IelQ1Em"
      },
      "source": [
        "## Q-Learning"
      ]
    },
    {
      "cell_type": "code",
      "execution_count": null,
      "metadata": {
        "id": "Vtl5EGZfQ1En"
      },
      "outputs": [],
      "source": [
        "utility_history_highway_q = q_learning(\n",
        "    highway_mdp, alpha=0.1, epsilon=0.1, iterations=10000, return_history=True\n",
        ")"
      ]
    },
    {
      "cell_type": "code",
      "execution_count": null,
      "metadata": {
        "id": "MZcvlxpuQ1Eo"
      },
      "outputs": [],
      "source": [
        "plot_grid_step_highway_q = make_plot_grid_step_function(\n",
        "    columns=10, rows=4, U_over_time=utility_history_highway_q\n",
        ")"
      ]
    },
    {
      "cell_type": "code",
      "execution_count": null,
      "metadata": {
        "id": "9ggXV9l6Q1Eo"
      },
      "outputs": [],
      "source": [
        "if mkdocs_flag:\n",
        "    iteration_slider = ipywidgets.IntSlider(\n",
        "        min=0, max=len(utility_history_highway_q) - 1, step=1, value=0\n",
        "    )\n",
        "    w = ipywidgets.interactive(plot_grid_step_highway_q, iteration=iteration_slider)\n",
        "    display(w)"
      ]
    },
    {
      "cell_type": "code",
      "execution_count": null,
      "metadata": {
        "id": "7Xkyac9AQ1Eo"
      },
      "outputs": [],
      "source": []
    }
  ],
  "metadata": {
    "kernelspec": {
      "display_name": "Python 3 (ipykernel)",
      "language": "python",
      "name": "python3"
    },
    "language_info": {
      "codemirror_mode": {
        "name": "ipython",
        "version": 3
      },
      "file_extension": ".py",
      "mimetype": "text/x-python",
      "name": "python",
      "nbconvert_exporter": "python",
      "pygments_lexer": "ipython3",
      "version": "3.8.15"
    },
    "colab": {
      "provenance": []
    },
    "widgets": {
      "application/vnd.jupyter.widget-state+json": {
        "998b6cf9b3fc40f19c6e0d8c473ba150": {
          "model_module": "@jupyter-widgets/controls",
          "model_name": "VBoxModel",
          "model_module_version": "1.5.0",
          "state": {
            "_dom_classes": [
              "widget-interact"
            ],
            "_model_module": "@jupyter-widgets/controls",
            "_model_module_version": "1.5.0",
            "_model_name": "VBoxModel",
            "_view_count": null,
            "_view_module": "@jupyter-widgets/controls",
            "_view_module_version": "1.5.0",
            "_view_name": "VBoxView",
            "box_style": "",
            "children": [
              "IPY_MODEL_cd04777f36694e86a6009aa7bc155aad",
              "IPY_MODEL_af2cbfb477974c0fbe56b1586ab0b6bd"
            ],
            "layout": "IPY_MODEL_ee109fd4372048bfb5aded984ae0b091"
          }
        },
        "cd04777f36694e86a6009aa7bc155aad": {
          "model_module": "@jupyter-widgets/controls",
          "model_name": "IntSliderModel",
          "model_module_version": "1.5.0",
          "state": {
            "_dom_classes": [],
            "_model_module": "@jupyter-widgets/controls",
            "_model_module_version": "1.5.0",
            "_model_name": "IntSliderModel",
            "_view_count": null,
            "_view_module": "@jupyter-widgets/controls",
            "_view_module_version": "1.5.0",
            "_view_name": "IntSliderView",
            "continuous_update": true,
            "description": "iteration",
            "description_tooltip": null,
            "disabled": false,
            "layout": "IPY_MODEL_e3ff177d5cbd4bfe9bd729cbb0a1331b",
            "max": 19,
            "min": 0,
            "orientation": "horizontal",
            "readout": true,
            "readout_format": "d",
            "step": 1,
            "style": "IPY_MODEL_951d4f31b16f433e91a32bb3a709f7de",
            "value": 18
          }
        },
        "af2cbfb477974c0fbe56b1586ab0b6bd": {
          "model_module": "@jupyter-widgets/output",
          "model_name": "OutputModel",
          "model_module_version": "1.0.0",
          "state": {
            "_dom_classes": [],
            "_model_module": "@jupyter-widgets/output",
            "_model_module_version": "1.0.0",
            "_model_name": "OutputModel",
            "_view_count": null,
            "_view_module": "@jupyter-widgets/output",
            "_view_module_version": "1.0.0",
            "_view_name": "OutputView",
            "layout": "IPY_MODEL_c308564ac431414f85cb94c888531fa3",
            "msg_id": "",
            "outputs": [
              {
                "output_type": "display_data",
                "data": {
                  "text/plain": "<Figure size 432x288 with 1 Axes>",
                  "image/png": "iVBORw0KGgoAAAANSUhEUgAAATAAAADnCAYAAACZtwrQAAAABHNCSVQICAgIfAhkiAAAAAlwSFlzAAALEgAACxIB0t1+/AAAADh0RVh0U29mdHdhcmUAbWF0cGxvdGxpYiB2ZXJzaW9uMy4yLjIsIGh0dHA6Ly9tYXRwbG90bGliLm9yZy+WH4yJAAAWlUlEQVR4nO3afXCb1YHv8a9e/CbLseUkJliylzhOIDYlyWKnoQFKDFlDutXl7tBiOgPsJmW3nTCXoTPdpbPdbDvDDtxZdmCXMHP3dplC32IzTC9maWpikobs0A1OSLKQxGBDnMSWTWIn8otsS7Kk5/5hRbUTknYZLOmY32fGYz86R+ToQf7q6JFtlmUhImIie6YXICLyaSlgImIsBUxEjKWAiYixFDARMZbziqNr1ugjyisZHs70CrJfKJTpFWS3oaFMryD7WZbtckPagYmIsRQwETGWAiYixlLARMRYCpiIGEsBExFjKWAiYiwFTESMpYCJiLEUMBExlgImIsZSwETEWAqYiBhLARMRYylgImIsBUxEjKWAiYixFDARMZYCJiLGUsBExFgKmIgYSwETEWMpYCJiLAVMRIylgImIsRQwETGWAiYixlLARMRYCpiIGEsBExFjKWAiYqysCVjb6CjXdnZSffw4T545c8n46WiUDR9+yJoPPuCG999n5+goAOdiMTZ8+CHud9/l4b6+dC87bdomJri2r4/qvj6eHB6+ZPx0LMaGjz9mTX8/NwQC7JyYAODnoRCrA4HUl/3kSY5EIuleflq0RaNcGwxSff48TyYf/0yn4nFuHxnhhmCQ24aH6YvHATgSi3HT8DC1wSA3BIO0zNPzsxkoA66/zLgF/C+gGrgBODRj7EVgefLrxTlc43+XzbKsy4+uWXOFwc9O3LJY0dlJ+7Jl+HJyqO/qYsc111CTn5+a85e9vawpKODbixZxPBxm00cfcbK2lvF4nMOTkxwNhzkaDrPd50vHkqd9QkjmQtyyWBEI0H7VVficTur7+9mxeDE1ubmpOX85NMSa3Fy+vWABx6NRNp05w8mKiln/nfeiUe4+e5aP0nmOQqG0/DNxy2JFMEh7cTE+u5364WF2FBVR43Sm5nxtdJQ/zc3lwfx89kSj/DgS4adFRXTF49iA5Q4H/fE4Nw4P0+nxUGJPw+v70NDc/xtJ+wA38ABw9BPGdwLPJr+/DTyS/H4eqAMOAjbgRuAdwDP3S55mWbbLDWXFDqxjYoLqvDyq8vLItdtp8nhoHRmZNccGjCZfMUficcpzcgAodDi42e0m33bZx2i8jkiEaqeTqpwccm02mgoLab1oh2EDRpMvRiOJBOUzfnEv2DE+TlNhYTqWnHYdsRjVDgdVDsf0OcrLozUanTXneDxOQ/J5syEnJzW+wuFgucMBQLnDQZndzuCVXtgNdStQeoXxVqbjZgPWAcPAAPA6sDF5X0/y57Y5XekfLisCFpiaoiL5xALw5eQQmJqaNecHS5bws2AQ37FjbDpxgmfTuYvIsEA8TsWMIPmcTgLJmF/wg5ISfhYK4evtZdPZszxbeulTtWV8nPvmacACiQQVM3ZMPrudQCIxa84qp5NfJqP1/6JRxiyLcxfN6ZiaIgosS8fuK8sEgJl7dl/ytsvdng2M+b+0Ixjkz0tL6autZWdVFfefOkViHr5Kflo7xsf5c7ebvooKdpaVcf/Q0Kzz83Ykgstm4/oZbzs/b55yuXhzaoo1wSBvTk3htdtxzBgfSCS4PxTix2439nm8o59PsiJg3pwcemfsuPqmpvDO2JEBPH/+PF8vKQHgpsJCwpbFUCyW1nVmitfhoHfGY+2LxfA6HLPmPB8K8fXk7uqm/Pzp8zNjd9E8j3dfAF67nd4Zj7cvkcB70S6q3OHglwsWcNjj4R+S5+LCda7RRIKvjIzwDy4X6y567n1eeIHeGcd9ydsud3s2yIqA1btcdEci9EQiRBMJmoNB/AsWzJpTmZPD7rExADrDYcKJBIs/4TrPfFSfl0d3LEbP1BRRy6J5fBy/yzVrTqXTye7JSQA6o1HClsXi5C9nwrJ4aR5f/wKodzrpjsfpicenz1Ekgv+i3eZQIpHalT4xMcHmvDwAopbF/xwb44H8fO5J3vZ55Ad+wvSnkfuBYuBqoBHYBQSTX7uSt2WDrCiA02Zju89H44kTxC2LzaWl1BYUsG1ggDqXC39xMf/k9fJQby9PDw5iA16orMSW3OZfc+wYo4kEUcvilZERdi1bNusTTNM5bTa2l5bSeOYMcWCz201tbi7bgkHq8vLwu1z8k8fDQ+fO8fTo6PT5WbQodX72hcNUOBxUzeOdhdNmY7vbTePIyPQ5ys+n1ulk2/g4dU4n/rw89k5N8b3xcWzArTk5POd2A/BSJMK+qSnOJRK8EA4D8EJREavn2QvkfcBeYIjp61g/BC687/kWsInpTyCrARfw4+RYKfB3QH3yeBtX/jAgnbLizyiMlaY/ozBamv6Mwlhp/DMKY2X7n1GIiHwaCpiIGEsBExFjKWAiYiwFTESMpYCJiLEUMBExlgImIsZSwETEWAqYiBhLARMRYylgImIsBUxEjKWAiYixFDARMZYCJiLGUsBExFgKmIgYSwETEWMpYCJiLAVMRIylgImIsRQwETGWAiYixlLARMRYCpiIGEsBExFjKWAiYiwFTESMpYCJiLEUMBExlgImIsZyXnHU7U7TMgx16FCmV5D9mpoyvYKsZnupJdNLyHrWFca0AxMRYylgImIsBUxEjKWAiYixFDARMZYCJiLGUsBExFgKmIgYSwETEWMpYCJiLAVMRIylgImIsRQwETGWAiYixlLARMRYCpiIGEsBExFjKWAiYiwFTESMpYCJiLEUMBExlgImIsZSwETEWAqYiBhLARMRYylgImIsBUxEjKWAiYixFDARMZYCJiLGUsBExFhZE7C2YJBr33mH6oMHebK395LxR0+cYPXhw6w+fJgVBw9S8p//mRo7HQ7zJ0ePsvKdd6h55x1OhsPpXHratLW1ce1111G9fDlPPvnkJeORSIR7m5qoXr6cL65bx8mTJ1NjTzzxBNXLl3Ptddfx+uuvp3HV6dM2MMC1v/411Tt38mRn5yfOeam3l5q2Nmrb2vjG/v2p20+Pj/Mnb77Jyl//mpq2Nk6Oj6dr2Wn0PnATkAc8dYV5PcAXgWrgXiCavD2SPK5Ojp+cq4X+wZyZXgBA3LLY+tFHtF9/Pb7cXOqPHMG/cCE1LldqztNVVamfn+3v53AolDp+oKuLv62oYKPHQygez54qf4bi8ThbH36Y9l278Pl81K9di9/vp6amJjXn+eefx1NSwofd3TQ3N/M3jz1GS3Mzx48fp7mlhWNHj9Lf388dGzfS9cEHOByODD6iz1Y8kWDroUO0f/nL+AoKqH/jDfzl5dQUF6fmdI+N8URnJ281NODJzeXsjBe6Bzo6+NuVK9m4ZAmhqSnsNlsmHsYcKwX+BXjl98z7G+BRoAn4FvA88O3kdw/wIdCcnNcyV4v9g2TF73rH2BjV+flU5eeTa7fTtHgxrefOXXb+jsFB7lu8GIDjExPEgI0eDwBuhwPXPPrFvKCjo4Pq6mqqqqrIzc2l6d57aW1tnTWn9dVXefDBBwG455572L17N5Zl0draStO995KXl8fSpUuprq6mo6MjEw9jznScP0+1202V202uw0FTZSWt/f2z5vzoxAm2Vlfjyc0FoCw/H4DjIyPELIuNS5YA4M7JweXMitf2z1gZUA/kXGGOBewB7kkeP8jvgteaPCY5vjs5P3OyImCBaJSKvLzUsS8vj0A0+olzT4XD9ITDNJSUANA1OUmJw8GfdXay5vBhvtvTQ9zK7EmdC4FAgAqfL3Xs8/kIBAKXzqmoAMDpdFJcXMy5c+dm3Q7g83ovua/pApOTVMzYsfsKCghMTs6a0zU2RtfYGOt372bdG2/QNjAwfXsoRElODn/21lus2bWL7/7XfxFPJNK6/uxxDijhd2/OfMCF50oAuPA8cgLFyfmZkxUB++9oHhrinkWLcCS3+DHL4j9GR3lq6VIOrF7NiXCYF86cyfAqJRvFLIvuUIi9GzawY906Hjp4kOFolFgiwX8MDfHUqlUcuOMOToRCvDDj+qFkr6wImDc3l95IJHXcF4ngTW7zL9Y84+0jgC83l9WFhVTl5+O02bh74UIOzcMLsF6vl96+vtRxX18fXq/30jnJD0BisRgjIyMsXLhw1u0AfYHAJfc1nbeggN6JidRx3+Qk3oKCWXN8BQX4y8vJsdtZ6nazoqiI7lAIn8vF6pISqtxunHY7d3u9HAoG0/0Q5shzwOrkV//vmQuwEBgGYsnjPuDCc8ULXHgexYCR5PzMyYqA1RcV0T05SU84TDSRoHlwEH9p6SXz3p+YIBiLcVNR0az7DsdiDE5NAbBneJiai56480F9fT3d3d309PQQjUZpbmnB7/fPmuP/6ld58cUXAXj55ZdpaGjAZrPh9/tpbmkhEonQ09NDd3c3a9euzcTDmDP1paV0h0L0hEJE43GaT5/GX14+a87dXi97z54FYCgSoWtsjKrCQuo9HoajUQaTF/X3nD1LzYIFaX8Mc2MrcCT5Vf575gLYgA3Ay8njF4H/kfzZnzwmOd6QnJ85WXGl0mmzsX3ZMhqPHiUObL7qKmoLC9l26hR1bjf+hdOVbx4cpGnxYmwzPiFy2Gw8tXQpt7/3HhZwo9vNQ8mLsfOJ0+lk+7PP0njnncTjcTb/xV9QW1vLtm3bqKurw+/3s2XLFu5/4AGqly+ntLSU5h07AKitreXrX/saNbW1OJ1Ontu+fV59AgngtNvZ/sd/TOO+fcQti81Ll1JbXMy2o0ep83jwe700LlnCrjNnqGlrw2Gz8Y+rVrEwee31qVWruP3NN6efQx4PD8341Hv++BioA0aZ3rs8AxwHFgCbgH9jOnL/m+lPIL8PrAG2JO+/Bbif6T+jKGX6k8jMsllXuuB9yy3z72r4Z2nfvkyvIPs1NWV6BVnN9lJm/wzBBJZ1+W1eVryFFBH5NBQwETGWAiYixlLARMRYCpiIGEsBExFjKWAiYiwFTESMpYCJiLEUMBExlgImIsZSwETEWAqYiBhLARMRYylgImIsBUxEjKWAiYixFDARMZYCJiLGUsBExFgKmIgYSwETEWMpYCJiLAVMRIylgImIsRQwETGWAiYixlLARMRYCpiIGEsBExFjKWAiYiybZVmXH9206QqDQnFxpleQ/QoKMr2C7LZ+faZXkP22bLFdbkg7MBExlgImIsZSwETEWAqYiBhLARMRYylgImIsBUxEjKWAiYixFDARMZYCJiLGUsBExFgKmIgYSwETEWMpYCJiLAVMRIylgImIsRQwETGWAiYixlLARMRYCpiIGEsBExFjKWAiYiwFTESMpYCJiLEUMBExlgImIsZSwETEWAqYiBhLARMRYylgImIsBUxEjOXM9AIuaBsc5JHOTuKWxTd9Ph5btmzW+KOdnfzm3DkAJuJxzkajDG/cCMCdBw6wf3iYmz0eXqurS/va06FtYIBHDh2aPj9VVTxWU3PJnJdOn+YHR49iA1aVlPCLL30JAEdLC18oLgag0uXi1VtvTefS06atr49H3n57+hytWMFjN9xwyZyXenr4weHD2Gw2VpWW8osvfxmAO3ftYv/gIDeXlfFa8nk137QdPcojO3YQTyT45i238NimTbPG/8/evTz3m9/gsNtx5+Xxfx94gJrycqKxGH/1k59w8NQp7DYb/9zUxG3XXZehRzFbVgQsbllsPXaM9rVr8eXnU//b3+IvK6OmqCg15+mVK1M/P3vyJIdHR1PH3126lIl4nH/t7U3rutMlnkiw9eBB2jdswFdQQH17O36vl5pklAC6x8Z44vhx3rrjDjy5uZwNh1NjBQ4HR+68MxNLT5t4IsHW/ftpb2zE53JR/+//jr+ykpqSktSc7pERnnj3Xd76ylfw5OVxdnIyNfbd669nIhbjXz/4IBPLn3PxRIKtP/857d/5Dj6Ph/rHH8e/ejU15eWpOd/44hf51m23AfDqkSN8p6WFtkcf5Uf79gHw3g9/yNnRUe565hkOfP/72O2ZfwOX+RUAHcPDVBcWUuVykWu303T11bSePXvZ+TsGBrhvxom/fdEiipxZ0eI50XH+PNVFRVS53eQ6HDRVVtIaCMya86OPPmLr8uV4cnMBKMvPz8RSM6ZjaGj6HBUVTZ+jqipaT5+eNedHXV1sXbkST14eAGUFBamx28vLKcrJSeua06mjp4fqsjKqFi8m1+mkae1aWo8cmTVnwYzzMR6JYLPZADg+MEBDcgNRtmABJS4XB0+eTNvaryQrAhYIh6mY8Qvny88nMGMHMdOpyUl6JidpWLgwXcvLuMDkJBUuV+rYV1BAYMbuAaBrbIyusTHWv/EG69rbaRsYSI2F43HqXn+dde3tvNLXl7Z1p1NgYoKKwsLUsc/lIjA+PmtO1+goXSMjrP/Vr1j32mu0zdNz8UkCwSAVHk/q2OfxEAgGL5n33J49LPve9/jrl1/mX+67D4BVPh+vHjlCLB6nZ3CQd06dovcT7psJxm1bmvv7uWfJEhzJVweZFrMsusfG2NvQQN/EBLfu3s17d91FSW4up776VbwuFydCIRr27OELxcUsm/H2/PMilkjQPTrK3rvuom98nFt37uS9u++mJLkjE9ja0MDWhgZ+8fbbPP7aa7y4ZQubb76ZzoEB6h5/nD9auJAvLVuGIwvePkKW7MC8+fn0zthx9YXDeC/zFqh5YID7rr46XUvLCt6CAnonJlLHfZOTeGds92F6V+b3esmx21nqdrOiqIjusbHp+yd3b1VuN7eVlXF4eDh9i08Tr8tF74wdV9/EBN4ZOzIAX2Eh/srK6XNUVMSK4mK6Z1xLnc+8Hs+sXVNfMIh3xo7sYk319bySfIvpdDh4uqmJI3//97Q+/DDDk5OsuOqqOV/zHyIrAlZfXEz3+Dg9ExNEEwmaBwbwl5VdMu/9UIhgLMZNMy7Mfh7Ul5bSPTZGTyhENB6n+fRp/F7vrDl3+3zsTV43HIpE6Bobo8rtJhiNEonHU7e/NTREzYIFaX8Mc61+0SK6R0fpGRubPkcnTuCvqJg15+7KSvYm31oPhcN0jYxQ9TnZidZfcw3dZ87QMzhINBajuaMD/6pVs+Z0nzmT+vlX777L8uTv4EQkwngkAkD7sWM47fZZF/8zKSveQjrtdrbX1NB44ABxy2Kzz0dtURHburqoKy7Gn6x988AATVdfnbq4eMEt+/fzfihEKB7Ht2cPz3/hCzQuXpyJhzInnHY722+8kcY33ySeSLC5qora4mK2vfcedaWl+L1eGpcsYdfHH1OzcycOm41/XL2ahXl5/HZoiL86cAC7zUbCsnhs5cpZn17OF067ne3r1tG4a9f0c2j5cmo9HrYdOkTdokX4Kytp9HrZ1d9PzS9/OX2O6utZmNzp37JzJ+8PDxOKxfC1tPD8zTfTeNGLhMmcDgfbv/ENGp95Zvo5tH49tV4v2155hbprrsG/ejXb9+zhjc5OchwOPC4XL27eDMDZsTEan34au82G1+Php9/8ZoYfze/YLMu6/OimTVcYFOZhCD5zF73VlYusX5/pFWS/LVsue8E7K95Cioh8GgqYiBhLARMRYylgImIsBUxEjKWAiYixFDARMZYCJiLGUsBExFgKmIgYSwETEWMpYCJiLAVMRIylgImIsRQwETGWAiYixlLARMRYCpiIGEsBExFjKWAiYiwFTESMpYCJiLEUMBExlgImIsZSwETEWAqYiBhLARMRYylgImIsBUxEjKWAiYixFDARMZYCJiLGslmWlek1iIh8KtqBiYixFDARMZYCJiLGUsBExFgKmIgYSwETEWP9f0xm1gD4RqLEAAAAAElFTkSuQmCC\n"
                },
                "metadata": {
                  "needs_background": "light"
                }
              }
            ]
          }
        },
        "ee109fd4372048bfb5aded984ae0b091": {
          "model_module": "@jupyter-widgets/base",
          "model_name": "LayoutModel",
          "model_module_version": "1.2.0",
          "state": {
            "_model_module": "@jupyter-widgets/base",
            "_model_module_version": "1.2.0",
            "_model_name": "LayoutModel",
            "_view_count": null,
            "_view_module": "@jupyter-widgets/base",
            "_view_module_version": "1.2.0",
            "_view_name": "LayoutView",
            "align_content": null,
            "align_items": null,
            "align_self": null,
            "border": null,
            "bottom": null,
            "display": null,
            "flex": null,
            "flex_flow": null,
            "grid_area": null,
            "grid_auto_columns": null,
            "grid_auto_flow": null,
            "grid_auto_rows": null,
            "grid_column": null,
            "grid_gap": null,
            "grid_row": null,
            "grid_template_areas": null,
            "grid_template_columns": null,
            "grid_template_rows": null,
            "height": null,
            "justify_content": null,
            "justify_items": null,
            "left": null,
            "margin": null,
            "max_height": null,
            "max_width": null,
            "min_height": null,
            "min_width": null,
            "object_fit": null,
            "object_position": null,
            "order": null,
            "overflow": null,
            "overflow_x": null,
            "overflow_y": null,
            "padding": null,
            "right": null,
            "top": null,
            "visibility": null,
            "width": null
          }
        },
        "e3ff177d5cbd4bfe9bd729cbb0a1331b": {
          "model_module": "@jupyter-widgets/base",
          "model_name": "LayoutModel",
          "model_module_version": "1.2.0",
          "state": {
            "_model_module": "@jupyter-widgets/base",
            "_model_module_version": "1.2.0",
            "_model_name": "LayoutModel",
            "_view_count": null,
            "_view_module": "@jupyter-widgets/base",
            "_view_module_version": "1.2.0",
            "_view_name": "LayoutView",
            "align_content": null,
            "align_items": null,
            "align_self": null,
            "border": null,
            "bottom": null,
            "display": null,
            "flex": null,
            "flex_flow": null,
            "grid_area": null,
            "grid_auto_columns": null,
            "grid_auto_flow": null,
            "grid_auto_rows": null,
            "grid_column": null,
            "grid_gap": null,
            "grid_row": null,
            "grid_template_areas": null,
            "grid_template_columns": null,
            "grid_template_rows": null,
            "height": null,
            "justify_content": null,
            "justify_items": null,
            "left": null,
            "margin": null,
            "max_height": null,
            "max_width": null,
            "min_height": null,
            "min_width": null,
            "object_fit": null,
            "object_position": null,
            "order": null,
            "overflow": null,
            "overflow_x": null,
            "overflow_y": null,
            "padding": null,
            "right": null,
            "top": null,
            "visibility": null,
            "width": null
          }
        },
        "951d4f31b16f433e91a32bb3a709f7de": {
          "model_module": "@jupyter-widgets/controls",
          "model_name": "SliderStyleModel",
          "model_module_version": "1.5.0",
          "state": {
            "_model_module": "@jupyter-widgets/controls",
            "_model_module_version": "1.5.0",
            "_model_name": "SliderStyleModel",
            "_view_count": null,
            "_view_module": "@jupyter-widgets/base",
            "_view_module_version": "1.2.0",
            "_view_name": "StyleView",
            "description_width": "",
            "handle_color": null
          }
        },
        "c308564ac431414f85cb94c888531fa3": {
          "model_module": "@jupyter-widgets/base",
          "model_name": "LayoutModel",
          "model_module_version": "1.2.0",
          "state": {
            "_model_module": "@jupyter-widgets/base",
            "_model_module_version": "1.2.0",
            "_model_name": "LayoutModel",
            "_view_count": null,
            "_view_module": "@jupyter-widgets/base",
            "_view_module_version": "1.2.0",
            "_view_name": "LayoutView",
            "align_content": null,
            "align_items": null,
            "align_self": null,
            "border": null,
            "bottom": null,
            "display": null,
            "flex": null,
            "flex_flow": null,
            "grid_area": null,
            "grid_auto_columns": null,
            "grid_auto_flow": null,
            "grid_auto_rows": null,
            "grid_column": null,
            "grid_gap": null,
            "grid_row": null,
            "grid_template_areas": null,
            "grid_template_columns": null,
            "grid_template_rows": null,
            "height": null,
            "justify_content": null,
            "justify_items": null,
            "left": null,
            "margin": null,
            "max_height": null,
            "max_width": null,
            "min_height": null,
            "min_width": null,
            "object_fit": null,
            "object_position": null,
            "order": null,
            "overflow": null,
            "overflow_x": null,
            "overflow_y": null,
            "padding": null,
            "right": null,
            "top": null,
            "visibility": null,
            "width": null
          }
        },
        "ac109e6a29aa45e49b04070c43ec253c": {
          "model_module": "@jupyter-widgets/controls",
          "model_name": "VBoxModel",
          "model_module_version": "1.5.0",
          "state": {
            "_dom_classes": [
              "widget-interact"
            ],
            "_model_module": "@jupyter-widgets/controls",
            "_model_module_version": "1.5.0",
            "_model_name": "VBoxModel",
            "_view_count": null,
            "_view_module": "@jupyter-widgets/controls",
            "_view_module_version": "1.5.0",
            "_view_name": "VBoxView",
            "box_style": "",
            "children": [
              "IPY_MODEL_2c5ae56252a24a42b86bbbbbeb822dd2",
              "IPY_MODEL_e06a75e8c5c64d61aec735939e36a222"
            ],
            "layout": "IPY_MODEL_fd45754e94b3462d87d5a6054e15ca77"
          }
        },
        "2c5ae56252a24a42b86bbbbbeb822dd2": {
          "model_module": "@jupyter-widgets/controls",
          "model_name": "IntSliderModel",
          "model_module_version": "1.5.0",
          "state": {
            "_dom_classes": [],
            "_model_module": "@jupyter-widgets/controls",
            "_model_module_version": "1.5.0",
            "_model_name": "IntSliderModel",
            "_view_count": null,
            "_view_module": "@jupyter-widgets/controls",
            "_view_module_version": "1.5.0",
            "_view_name": "IntSliderView",
            "continuous_update": true,
            "description": "iteration",
            "description_tooltip": null,
            "disabled": false,
            "layout": "IPY_MODEL_37af1788e6ab47728606b87a69cbddc6",
            "max": 9999,
            "min": 0,
            "orientation": "horizontal",
            "readout": true,
            "readout_format": "d",
            "step": 1,
            "style": "IPY_MODEL_71216b05c8b246e092e7474532e82553",
            "value": 9999
          }
        },
        "e06a75e8c5c64d61aec735939e36a222": {
          "model_module": "@jupyter-widgets/output",
          "model_name": "OutputModel",
          "model_module_version": "1.0.0",
          "state": {
            "_dom_classes": [],
            "_model_module": "@jupyter-widgets/output",
            "_model_module_version": "1.0.0",
            "_model_name": "OutputModel",
            "_view_count": null,
            "_view_module": "@jupyter-widgets/output",
            "_view_module_version": "1.0.0",
            "_view_name": "OutputView",
            "layout": "IPY_MODEL_87bd189d6f80409e8fe9f5a63ec2e3dc",
            "msg_id": "",
            "outputs": [
              {
                "output_type": "display_data",
                "data": {
                  "text/plain": "<Figure size 432x288 with 1 Axes>",
                  "image/png": "iVBORw0KGgoAAAANSUhEUgAAATAAAADnCAYAAACZtwrQAAAABHNCSVQICAgIfAhkiAAAAAlwSFlzAAALEgAACxIB0t1+/AAAADh0RVh0U29mdHdhcmUAbWF0cGxvdGxpYiB2ZXJzaW9uMy4yLjIsIGh0dHA6Ly9tYXRwbG90bGliLm9yZy+WH4yJAAAU3klEQVR4nO3af3DU9Z3H8ed397vJkkDSQBBCglBYoYhAWpOCotWiSNUafxapV8FSb6zFY4rl6nWsuapt9W5Q5xxwqtgTf5zGq6hgayJq/Yml/JAMKp0xYKBJXGUDJCE/9td3v/dH1sACQaaa3f1wr8eMw+5+Pju+v99888xmN5bruoiImMiT6QFERP5RCpiIGEsBExFjKWAiYiwFTESMZR9rcdgw9BHlMUyfnukJst+LtVamR8hqJSP1LfZ5gkH6vYj0CkxEjKWAiYixFDARMZYCJiLGUsBExFgKmIgYSwETEWMpYCJiLAVMRIylgImIsRQwETGWAiYixlLARMRYCpiIGEsBExFjKWAiYiwFTESMpYCJiLEUMBExlgImIsZSwETEWAqYiBhLARMRYylgImIsBUxEjKWAiYixFDARMZYCJiLGUsBExFgKmIgYSwETEWNlTcBc16WrazFtbQHa26cSj7971H3x+Bba26fQ1hagq2sxrusCEI3+gfb2yezb5yEe35zO0dMiFKrjzTcn8sYbAXbuvPuI9X373mT9+m9QV2cTDD6Tstbc/ChvvHEKb7xxCs3Nj6Zr5LSrAyYCAeDIMwS7gfOAqcC5QHPy8XrgDGBycu3pgR40gyKROkKhiYRCATo7jzxLrhuhre1qQqEAe/dOJx7f1bfW2XkXoVCAUGgikchLaZy6f1kTsFislkSigcLCBvLzH6Kr68aj7uvqupH8/JUUFjaQSDQQi9UB4PWexuDBz2Lb30rn2Gnhug4ffLCIiopazj57O8HgUxw4sD1lj99/MlOmrKKk5JqUx6PRfezYcTtnnPFXzjxzIzt23E4stj+d46eFAywCaoHtwFPJfw+1FJgPbAOqgV8kH88DHgM+oDeCPwXaBn7ktHNdh46ORRQV1VJcvJ1w+Cni8dSz1NPzeyyriOHDd5CXt4TOzlsAiMe3Ew7XUFz8AUVFdXR0/ATXdTJxGCmyKGBryMmZj2VZ2PYMXLeNRCKYsieRCOK6Hdj2DCzLIidnPrHY8wB4vZPweidmYvQB19a2kfz8AHl54/B4cigpmceePWtS9uTljaWgYCqWlfolbW19ieLi2eTkDMXnK6K4eDahUF06x0+LjfS+8hoH5ADzgDWH7dkOzEre/vYh6xOAU5K3RwEnAaGBHDZDYrGNeL0BbHsclpWD3z+PcDj1LIXDaxg0aAEAfv9VRCKv4rou4fAa/P55WFYutv1VvN4AsdjGTBxGiqwJWCLRgsczuu++x1NGItFylD1lx9xzIgqHW/D7D54bv7+McPj4jvuLPNckLcDoQ+6XJR871DTg2eTt54ADwN7D9mwEosD4AZgx0xKJFrzeg2fJ6z3699hneyzLxuMpxHX3HtdzMyFrAiYy0JYBbwBfT/5bCngPWQ8C1wKPoG8MU2T06xQOr6C9vZz29nI8nhISiaa+tUSiGY+nNGW/x1NKItF8zD0nIr+/lHD44LkJh5vx+4/vuL/Ic01SCjQdcr85+dihRtH7Cmwr8JvkY19J/tsBXJx8fMbAjZlRHk8pjnPwLDnO0b/HPtvjunESiXYsa9hxPTcTMhowv38RhYX1FBbW4/NdRjT6GK7rEo9vwLIK8XhKUvZ7PCVYVgHx+AZc1yUafQyf79IMTZ8+hYWVdHU10N3dSCIRJRis4aSTqo7rucXFc2htXUcstp9YbD+tresoLp4zwBOnXyXQADTS+ytgDXD4GWoFEsnbdwELk7ejwOX0vsF/1YBPmjk+XyWO00A83ojrRgmHa8jNTT1LublV9PT0flIdDj9Dbu4sLMsiN7eKcLgG140QjzfiOA34fN/MxGGksDM9wGd8vouIxV6kvT2AZeWRn/9I31p7ezmFhfUA5Oc/QFfXdbhuDz7fhfh8FwIQjT5HV9e/4LohDhy4GK+3nIKC7Pio94vyeGxOPXU5mzbNwXUdysoWMmTIZD78sJrCwgpGjKiirW0T7757OfH4fvbseYEdO/6ds8/+gJycoYwffxvvvFMJQCBQTU7O0Awf0ZfPBpYDc+j9RHIhvX8WUQ1U0Buz1+n95NECvgWsSD73f4E36X0/bFXysVVAeToGTyPLsikoWM7+/b1nadCghfh8kzlwoBqfrwK/v4q8vB/R1nYtoVAAj2cohYU1APh8k/H759LaeipgU1CwAsvyHvP/lw7WZ39HdTTDhtH/ojB9eqYnyH4v1lqZHiGrlYzUt9jnCQbp9yLSe5UiYiwFTESMpYCJiLEUMBExlgImIsZSwETEWAqYiBhLARMRYylgImIsBUxEjKWAiYixFDARMZYCJiLGUsBExFgKmIgYSwETEWMpYCJiLAVMRIylgImIsRQwETGWAiYixlLARMRYCpiIGEsBExFjKWAiYiwFTESMpYCJiLEUMBExlgImIsZSwETEWAqYiBhLARMRY9nHWoxG0zWGmbZuzfQEBnjmmUxPkN1uyvQAZtMrMBExlgImIsZSwETEWAqYiBhLARMRYylgImIsBUxEjKWAiYixFDARMZYCJiLGUsBExFgKmIgYSwETEWMpYCJiLAVMRIylgImIsRQwETGWAiYixlLARMRYCpiIGEsBExFjKWAiYiwFTESMpYCJiLEUMBExlgImIsZSwETEWAqYiBhLARMRYylgImIsBUxEjJU1AXNdl0hkMV1dAbq7p+I47x51n+Nsobt7Cl1dASKRxbiuC0Ak8q90dX2N7u6p9PRcjuu2pXP8tIhE6giFJhIKBejsvPuIddeN0NZ2NaFQgL17pxOP7+pb6+y8i1AoQCg0kUjkpTROnT51W7cycfFiAjfdxN3PPXfE+qrXXmP4woWUL11K+dKlPPzKK31rtzz+OKctWcJpS5bw9Pr16Rw7rU60ayhrAuY4tSQSDeTlNZCb+xCRyI1H3ReJ3Ehu7kry8hpIJBpwnDoAvN7Z5OW9T17eNjyeCUSjd6Vz/AHnug4dHYsoKqqluHg74fBTxOPbU/b09Pweyypi+PAd5OUtobPzFgDi8e2EwzUUF39AUVEdHR0/wXWdTBzGgHEch0UPP0ztrbey/b77eOrtt9ne1HTEvqvPPJP6ZcuoX7aM688/H4A/bdnCu42N1C9bxl/vuotla9fS0d2d7kMYcCfiNZQ1AYvH12Db87EsC693Bq7bRiIRTNmTSARx3Q683hlYloVtzycefx4A274Ay7IBks9vTvsxDKRYbCNebwDbHodl5eD3zyMcXpOyJxxew6BBCwDw+68iEnkV13UJh9fg98/DsnKx7a/i9QaIxTZm4jAGzMYdOwiMHMm4ESPI8fmYN3MmazZtOq7nbm9u5luTJmF7veT7/UwdM4a6+voBnjj9TsRrKGsC5roteDyj++57PGW4bstR9pQdcw9ALPbfeL0XDtywGZBItOD1Hjw/Xm8ZiURLv3ssy8bjKcR19x7Xc03Xsm8fo4uL++6XDRtGy759R+xbvWEDU2++mauWLaOptRWAaclgdUcitHZ08Nr77/etnUhOxGvIzvQAX7Zo9DeAjW3/U6ZHkSxzSUUF3z/rLHJ9Ph5ct44Fy5fz51/9igvKy9m0cydn3norwwsKOGPCBLyerPnZLseQ0a9SNLqC7u5yurvLsawSEomD71kkEs1YVmnKfssqJZFo7ndPLLaKePyP+P3/g2VZA38AaeTxlOI4B8+P4zTj8ZT2u8d14yQS7VjWsON6rulKhw5NedXUvHcvpUOHpuwZNmQIuT4fANefdx5bPvqob+3WK6+kftkyXq6uxgUmjBqVlrnT6US8hjIasJycReTl1ZOXV49tX0Y8/hiu6+I4G7CsQjyekpT9Hk8JllWA42zAdV3i8cew7UsBiMfriEb/k0GD1mJZeZk4nAHl81XiOA3E4424bpRwuIbc3KqUPbm5VfT0PApAOPwMubmzsCyL3NwqwuEaXDdCPN6I4zTg830zE4cxYCoDARqCQRo//ZRoLEbN+vVUVVam7Anu3993e+3mzUwq7f0GdByHvQcOALBt1y627d7NBdOmpW/4NDkRr6Gs+RXS670Ix3mR7u4AlpVHbu4jfWvd3eXk5fW+qZqb+wCRyHW4bg+2fWHfe12RyE1AhJ6e2QB4PDPw+3+X9uMYKJZlU1CwnP375wAOgwYtxOebzIED1fh8Ffj9VeTl/Yi2tmsJhQJ4PEMpLKwBwOebjN8/l9bWUwGbgoIVWJY3o8fzZbO9XpZffz1zfv1rnESChbNmMXn0aKpraqgYP56qykruf/FF1m7ahO31MnTwYFbddBMAMcfh7NtuA6Bg0CCeWLwY23tinR84Ma8h67O/ozqaIUPof1EYPDjTE2S/4PLVmR4hq5XcdGWmR8h6wSD9vh+kdypFxFgKmIgYSwETEWMpYCJiLAVMRIylgImIsRQwETGWAiYixlLARMRYCpiIGEsBExFjKWAiYiwFTESMpYCJiLEUMBExlgImIsZSwETEWAqYiBhLARMRYylgImIsBUxEjKWAiYixFDARMZYCJiLGUsBExFgKmIgYSwETEWMpYCJiLAVMRIylgImIsRQwETGWfazFzs50jWGmv/0t0xMYwKnI9ARZraoq0xOYTa/ARMRYCpiIGEsBExFjKWAiYiwFTESMpYCJiLEUMBExlgImIsZSwETEWAqYiBhLARMRYylgImIsBUxEjKWAiYixFDARMZYCJiLGUsBExFgKmIgYSwETEWMpYCJiLAVMRIylgImIsRQwETGWAiYixlLARMRYCpiIGEsBExFjKWAiYiwFTESMpYCJiLEUMBExVhYFzAUWAwFgKvBuP/u2AFOS+xYnnwfwK6AUKE/+9+IAzpoZr71WxznnTOSsswKsWHH3EeuPP/47zj9/CnPmlHPFFWfx4YfbAYjFYixZsoDzz5/Ct789ieXL70r36GlR9/rrTJw1i8A553D3Aw/0u291bS3W2LFs3rYNgGg0yg+XLmXKnDlM+853eP0vf0nTxOnV1FTH009PpKYmQH39kddPMPgmq1d/g5UrbT766JmUtZUrvaxeXc7q1eXU1VWla+TPZWd6gINqgYbkf38Fbkz+e7gbgZXAdOAioA64MLm2BFg64JNmguM4/PKXi3jyyZcpKSnju9+tZPbsKiZMOLVvz2WXXcO11/4YgHXr1nLHHTfzxBN1/PGPfyASifDKK+/R09PNrFmncuml32f06LEZOpovn+M4LKqu5uUnnqBs5Egqq6qomj2bU085JWXfgc5O/uuRR5heXt732MqaGgDee+kl9rS2cuF117Fp7Vo8niz6+f4FJRIOb7+9iIsvfpn8/DKee66SMWOqKCo6eP0MHnwy5567im3blh3xfK93EFdeWZ/OkY9LFn2F1gDzAQuYAbQBwcP2BIGO5LqV3P98GmfMnPr6jYwdG2DMmHHk5ORQVTWPdevWpOwZMqSg73Z3dxeWZQFgWRY9PV3E43HC4R58vhwGDy7gRLKxvp7AmDGMO/lkcnJymHfJJaxZt+6Ifbfdcw+3/PjH+HNz+x7b3tDArDPPBOCk4mK+UlDQ9+rsRBEKbaSwMEBBwTi83hzGj5/Hrl2HXz9jGTZsKpaVRVn4HFk0aQsw+pD7ZcnHDt9Tdow9y+n99XMhsH8AZsycTz5pYdSog+enpKSMTz45/PzAqlUrmDlzPL/97c+54477Abj44qsYNCif008vYfr0k7nhhqUUFQ1N2+zp0PLpp4weNarvfllJCS2ffpqy593336cpGOTiWbNSHp82aRJrX3mFeDxOY1MTW957j6bg4T88zdbV1UJ+/sHrJz+/jK6uI6+f/jhOmGefreD552ewa1f2vGjIooB9UTcCO4F6oAT4WWbHyZDrrlvE+vU7+cUv/oP77/810Pvqzev1snnzx7zzTiMPPXQPu3d/lOFJ0yuRSHDznXdyz623HrG2cO5cykaOpOKSS/jp7bdz5umn4z2Bfn38MlxzzW6uuGIzs2Y9yTvv/JSOjp2ZHgnIeMBWcPBN9xKg6ZC1ZnrflD9UafLxo+0ZAXjpPaR/BjYOwLyZM3JkKR9/fPD8BIPNjBx5+Pk56NJL5/HSS70/KZ9//knOPfc7+Hw+iotPoqJiJtu2bR7wmdOpdMQImj7+uO9+czBI6YgRffcPdHby/ocfcu68eYydOZMNW7dSdf31bN62Ddu2ua+6mvraWtY8/DBtHR1MGDcuE4cxYPLzS+nqOnj9dHU1k5/f//VztOcDFBSMY9Soc2lt3fqlz/iPyHDAFtH7iqkeuAx4jN5PFTcAhfRG7VAlQEFy3U3uvzS5duhL/ueA0wZs6kyYNq2SXbsa+PvfG4lGo6xdW8Ps2amfBjU2NvTdfvXVPzF2bO8b2KWlJ7N+/Z+B3vfGtm7dQCDwtfQNnwaV06bRsGsXjU1NRKNRal54garZs/vWCwsKaN26lV3r17Nr/XpmfP3rrH34YSqmTqW7p4eu7m4AXn7rLWzbPuLNf9MNH15Je3sDHR2NOE6UnTtrGDPm+D5NjET24zgRAMLhVj75ZH3Km/+ZlEWfQl5E758+BIA84JFD1srpjRzAA8B1QA+9nz5+9gnkz5N7LGAs8OBAD5xWtm1z553L+cEP5uA4DldfvZCJEyezbFk1U6dWcMEFVaxatZy3334F2/ZRWFjEffc9CsCCBYv42c9+yHnnTcZ1XebO/SGTJk3N8BF9uWzbZvkddzBn/nwcx2Hh3LlMnjCB6nvvpWLKlJSYHW5PaytzFizAY1mUjhzJ4/fem8bJ08PjsZk5czm1tXNIJBwmTlzI0KGT2by5muLiCsaOrWLPnk28/PLlRCL72b37BbZs+Xe+970P2L//b7z11g1YlgfXTVBe/m9ZEzDLdd3+Fy36XxSamj5/z/93Zc7uTI+Q1W747ZhMj5D1HnwQq781vVMpIsZSwETEWAqYiBhLARMRYylgImIsBUxEjKWAiYixFDARMZYCJiLGUsBExFgKmIgYSwETEWMpYCJiLAVMRIylgImIsRQwETGWAiYixlLARMRYCpiIGEsBExFjKWAiYiwFTESMpYCJiLEUMBExlgImIsZSwETEWAqYiBhLARMRYylgImIsBUxEjKWAiYixFDARMZblum6mZxAR+YfoFZiIGEsBExFjKWAiYiwFTESMpYCJiLEUMBEx1v8B1hzfeCsJuVEAAAAASUVORK5CYII=\n"
                },
                "metadata": {
                  "needs_background": "light"
                }
              }
            ]
          }
        },
        "fd45754e94b3462d87d5a6054e15ca77": {
          "model_module": "@jupyter-widgets/base",
          "model_name": "LayoutModel",
          "model_module_version": "1.2.0",
          "state": {
            "_model_module": "@jupyter-widgets/base",
            "_model_module_version": "1.2.0",
            "_model_name": "LayoutModel",
            "_view_count": null,
            "_view_module": "@jupyter-widgets/base",
            "_view_module_version": "1.2.0",
            "_view_name": "LayoutView",
            "align_content": null,
            "align_items": null,
            "align_self": null,
            "border": null,
            "bottom": null,
            "display": null,
            "flex": null,
            "flex_flow": null,
            "grid_area": null,
            "grid_auto_columns": null,
            "grid_auto_flow": null,
            "grid_auto_rows": null,
            "grid_column": null,
            "grid_gap": null,
            "grid_row": null,
            "grid_template_areas": null,
            "grid_template_columns": null,
            "grid_template_rows": null,
            "height": null,
            "justify_content": null,
            "justify_items": null,
            "left": null,
            "margin": null,
            "max_height": null,
            "max_width": null,
            "min_height": null,
            "min_width": null,
            "object_fit": null,
            "object_position": null,
            "order": null,
            "overflow": null,
            "overflow_x": null,
            "overflow_y": null,
            "padding": null,
            "right": null,
            "top": null,
            "visibility": null,
            "width": null
          }
        },
        "37af1788e6ab47728606b87a69cbddc6": {
          "model_module": "@jupyter-widgets/base",
          "model_name": "LayoutModel",
          "model_module_version": "1.2.0",
          "state": {
            "_model_module": "@jupyter-widgets/base",
            "_model_module_version": "1.2.0",
            "_model_name": "LayoutModel",
            "_view_count": null,
            "_view_module": "@jupyter-widgets/base",
            "_view_module_version": "1.2.0",
            "_view_name": "LayoutView",
            "align_content": null,
            "align_items": null,
            "align_self": null,
            "border": null,
            "bottom": null,
            "display": null,
            "flex": null,
            "flex_flow": null,
            "grid_area": null,
            "grid_auto_columns": null,
            "grid_auto_flow": null,
            "grid_auto_rows": null,
            "grid_column": null,
            "grid_gap": null,
            "grid_row": null,
            "grid_template_areas": null,
            "grid_template_columns": null,
            "grid_template_rows": null,
            "height": null,
            "justify_content": null,
            "justify_items": null,
            "left": null,
            "margin": null,
            "max_height": null,
            "max_width": null,
            "min_height": null,
            "min_width": null,
            "object_fit": null,
            "object_position": null,
            "order": null,
            "overflow": null,
            "overflow_x": null,
            "overflow_y": null,
            "padding": null,
            "right": null,
            "top": null,
            "visibility": null,
            "width": null
          }
        },
        "71216b05c8b246e092e7474532e82553": {
          "model_module": "@jupyter-widgets/controls",
          "model_name": "SliderStyleModel",
          "model_module_version": "1.5.0",
          "state": {
            "_model_module": "@jupyter-widgets/controls",
            "_model_module_version": "1.5.0",
            "_model_name": "SliderStyleModel",
            "_view_count": null,
            "_view_module": "@jupyter-widgets/base",
            "_view_module_version": "1.2.0",
            "_view_name": "StyleView",
            "description_width": "",
            "handle_color": null
          }
        },
        "87bd189d6f80409e8fe9f5a63ec2e3dc": {
          "model_module": "@jupyter-widgets/base",
          "model_name": "LayoutModel",
          "model_module_version": "1.2.0",
          "state": {
            "_model_module": "@jupyter-widgets/base",
            "_model_module_version": "1.2.0",
            "_model_name": "LayoutModel",
            "_view_count": null,
            "_view_module": "@jupyter-widgets/base",
            "_view_module_version": "1.2.0",
            "_view_name": "LayoutView",
            "align_content": null,
            "align_items": null,
            "align_self": null,
            "border": null,
            "bottom": null,
            "display": null,
            "flex": null,
            "flex_flow": null,
            "grid_area": null,
            "grid_auto_columns": null,
            "grid_auto_flow": null,
            "grid_auto_rows": null,
            "grid_column": null,
            "grid_gap": null,
            "grid_row": null,
            "grid_template_areas": null,
            "grid_template_columns": null,
            "grid_template_rows": null,
            "height": null,
            "justify_content": null,
            "justify_items": null,
            "left": null,
            "margin": null,
            "max_height": null,
            "max_width": null,
            "min_height": null,
            "min_width": null,
            "object_fit": null,
            "object_position": null,
            "order": null,
            "overflow": null,
            "overflow_x": null,
            "overflow_y": null,
            "padding": null,
            "right": null,
            "top": null,
            "visibility": null,
            "width": null
          }
        },
        "9faa24a9990c4a83b09bf90b4d0c1295": {
          "model_module": "@jupyter-widgets/controls",
          "model_name": "VBoxModel",
          "model_module_version": "1.5.0",
          "state": {
            "_dom_classes": [
              "widget-interact"
            ],
            "_model_module": "@jupyter-widgets/controls",
            "_model_module_version": "1.5.0",
            "_model_name": "VBoxModel",
            "_view_count": null,
            "_view_module": "@jupyter-widgets/controls",
            "_view_module_version": "1.5.0",
            "_view_name": "VBoxView",
            "box_style": "",
            "children": [
              "IPY_MODEL_5ce708d51f2149baba00c4515eadf64d",
              "IPY_MODEL_660531a24f9a4e5faff4d3758f96b91e"
            ],
            "layout": "IPY_MODEL_182b9cd6ed174d7eadcdb89c8fa183f5"
          }
        },
        "5ce708d51f2149baba00c4515eadf64d": {
          "model_module": "@jupyter-widgets/controls",
          "model_name": "IntSliderModel",
          "model_module_version": "1.5.0",
          "state": {
            "_dom_classes": [],
            "_model_module": "@jupyter-widgets/controls",
            "_model_module_version": "1.5.0",
            "_model_name": "IntSliderModel",
            "_view_count": null,
            "_view_module": "@jupyter-widgets/controls",
            "_view_module_version": "1.5.0",
            "_view_name": "IntSliderView",
            "continuous_update": true,
            "description": "iteration",
            "description_tooltip": null,
            "disabled": false,
            "layout": "IPY_MODEL_35d0ab21336341379fb7b70b0d6bafba",
            "max": 10,
            "min": 0,
            "orientation": "horizontal",
            "readout": true,
            "readout_format": "d",
            "step": 1,
            "style": "IPY_MODEL_a3f0ee8404944aa7932426e550308d3d",
            "value": 9
          }
        },
        "660531a24f9a4e5faff4d3758f96b91e": {
          "model_module": "@jupyter-widgets/output",
          "model_name": "OutputModel",
          "model_module_version": "1.0.0",
          "state": {
            "_dom_classes": [],
            "_model_module": "@jupyter-widgets/output",
            "_model_module_version": "1.0.0",
            "_model_name": "OutputModel",
            "_view_count": null,
            "_view_module": "@jupyter-widgets/output",
            "_view_module_version": "1.0.0",
            "_view_name": "OutputView",
            "layout": "IPY_MODEL_c96740aae67a4fbe9dc47e60315a9768",
            "msg_id": "",
            "outputs": [
              {
                "output_type": "display_data",
                "data": {
                  "text/plain": "<Figure size 432x288 with 1 Axes>",
                  "image/png": "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\n"
                },
                "metadata": {
                  "needs_background": "light"
                }
              }
            ]
          }
        },
        "182b9cd6ed174d7eadcdb89c8fa183f5": {
          "model_module": "@jupyter-widgets/base",
          "model_name": "LayoutModel",
          "model_module_version": "1.2.0",
          "state": {
            "_model_module": "@jupyter-widgets/base",
            "_model_module_version": "1.2.0",
            "_model_name": "LayoutModel",
            "_view_count": null,
            "_view_module": "@jupyter-widgets/base",
            "_view_module_version": "1.2.0",
            "_view_name": "LayoutView",
            "align_content": null,
            "align_items": null,
            "align_self": null,
            "border": null,
            "bottom": null,
            "display": null,
            "flex": null,
            "flex_flow": null,
            "grid_area": null,
            "grid_auto_columns": null,
            "grid_auto_flow": null,
            "grid_auto_rows": null,
            "grid_column": null,
            "grid_gap": null,
            "grid_row": null,
            "grid_template_areas": null,
            "grid_template_columns": null,
            "grid_template_rows": null,
            "height": null,
            "justify_content": null,
            "justify_items": null,
            "left": null,
            "margin": null,
            "max_height": null,
            "max_width": null,
            "min_height": null,
            "min_width": null,
            "object_fit": null,
            "object_position": null,
            "order": null,
            "overflow": null,
            "overflow_x": null,
            "overflow_y": null,
            "padding": null,
            "right": null,
            "top": null,
            "visibility": null,
            "width": null
          }
        },
        "35d0ab21336341379fb7b70b0d6bafba": {
          "model_module": "@jupyter-widgets/base",
          "model_name": "LayoutModel",
          "model_module_version": "1.2.0",
          "state": {
            "_model_module": "@jupyter-widgets/base",
            "_model_module_version": "1.2.0",
            "_model_name": "LayoutModel",
            "_view_count": null,
            "_view_module": "@jupyter-widgets/base",
            "_view_module_version": "1.2.0",
            "_view_name": "LayoutView",
            "align_content": null,
            "align_items": null,
            "align_self": null,
            "border": null,
            "bottom": null,
            "display": null,
            "flex": null,
            "flex_flow": null,
            "grid_area": null,
            "grid_auto_columns": null,
            "grid_auto_flow": null,
            "grid_auto_rows": null,
            "grid_column": null,
            "grid_gap": null,
            "grid_row": null,
            "grid_template_areas": null,
            "grid_template_columns": null,
            "grid_template_rows": null,
            "height": null,
            "justify_content": null,
            "justify_items": null,
            "left": null,
            "margin": null,
            "max_height": null,
            "max_width": null,
            "min_height": null,
            "min_width": null,
            "object_fit": null,
            "object_position": null,
            "order": null,
            "overflow": null,
            "overflow_x": null,
            "overflow_y": null,
            "padding": null,
            "right": null,
            "top": null,
            "visibility": null,
            "width": null
          }
        },
        "a3f0ee8404944aa7932426e550308d3d": {
          "model_module": "@jupyter-widgets/controls",
          "model_name": "SliderStyleModel",
          "model_module_version": "1.5.0",
          "state": {
            "_model_module": "@jupyter-widgets/controls",
            "_model_module_version": "1.5.0",
            "_model_name": "SliderStyleModel",
            "_view_count": null,
            "_view_module": "@jupyter-widgets/base",
            "_view_module_version": "1.2.0",
            "_view_name": "StyleView",
            "description_width": "",
            "handle_color": null
          }
        },
        "c96740aae67a4fbe9dc47e60315a9768": {
          "model_module": "@jupyter-widgets/base",
          "model_name": "LayoutModel",
          "model_module_version": "1.2.0",
          "state": {
            "_model_module": "@jupyter-widgets/base",
            "_model_module_version": "1.2.0",
            "_model_name": "LayoutModel",
            "_view_count": null,
            "_view_module": "@jupyter-widgets/base",
            "_view_module_version": "1.2.0",
            "_view_name": "LayoutView",
            "align_content": null,
            "align_items": null,
            "align_self": null,
            "border": null,
            "bottom": null,
            "display": null,
            "flex": null,
            "flex_flow": null,
            "grid_area": null,
            "grid_auto_columns": null,
            "grid_auto_flow": null,
            "grid_auto_rows": null,
            "grid_column": null,
            "grid_gap": null,
            "grid_row": null,
            "grid_template_areas": null,
            "grid_template_columns": null,
            "grid_template_rows": null,
            "height": null,
            "justify_content": null,
            "justify_items": null,
            "left": null,
            "margin": null,
            "max_height": null,
            "max_width": null,
            "min_height": null,
            "min_width": null,
            "object_fit": null,
            "object_position": null,
            "order": null,
            "overflow": null,
            "overflow_x": null,
            "overflow_y": null,
            "padding": null,
            "right": null,
            "top": null,
            "visibility": null,
            "width": null
          }
        }
      }
    }
  },
  "nbformat": 4,
  "nbformat_minor": 0
}